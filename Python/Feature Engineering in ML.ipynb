{
 "cells": [
  {
   "cell_type": "markdown",
   "id": "23ec0a4f",
   "metadata": {},
   "source": [
    "# Feature Engineering Techniques for Machine Learning Models"
   ]
  },
  {
   "cell_type": "markdown",
   "id": "329a60a4",
   "metadata": {},
   "source": [
    "## 0. Intial Setup"
   ]
  },
  {
   "cell_type": "code",
   "execution_count": 1,
   "id": "5baaaa53",
   "metadata": {},
   "outputs": [],
   "source": [
    "# Upload kaggle.json API token, and download / unzip California Housing csv\n",
    "#or download the california housing csv file and upload it"
   ]
  },
  {
   "cell_type": "code",
   "execution_count": 2,
   "id": "582b7b98",
   "metadata": {},
   "outputs": [
    {
     "data": {
      "text/html": [
       "<div>\n",
       "<style scoped>\n",
       "    .dataframe tbody tr th:only-of-type {\n",
       "        vertical-align: middle;\n",
       "    }\n",
       "\n",
       "    .dataframe tbody tr th {\n",
       "        vertical-align: top;\n",
       "    }\n",
       "\n",
       "    .dataframe thead th {\n",
       "        text-align: right;\n",
       "    }\n",
       "</style>\n",
       "<table border=\"1\" class=\"dataframe\">\n",
       "  <thead>\n",
       "    <tr style=\"text-align: right;\">\n",
       "      <th></th>\n",
       "      <th>longitude</th>\n",
       "      <th>latitude</th>\n",
       "      <th>housing_median_age</th>\n",
       "      <th>total_rooms</th>\n",
       "      <th>total_bedrooms</th>\n",
       "      <th>population</th>\n",
       "      <th>households</th>\n",
       "      <th>median_income</th>\n",
       "      <th>median_house_value</th>\n",
       "      <th>ocean_proximity</th>\n",
       "    </tr>\n",
       "  </thead>\n",
       "  <tbody>\n",
       "    <tr>\n",
       "      <th>0</th>\n",
       "      <td>-122.23</td>\n",
       "      <td>37.88</td>\n",
       "      <td>41.0</td>\n",
       "      <td>880.0</td>\n",
       "      <td>129.0</td>\n",
       "      <td>322.0</td>\n",
       "      <td>126.0</td>\n",
       "      <td>8.3252</td>\n",
       "      <td>452600.0</td>\n",
       "      <td>NEAR BAY</td>\n",
       "    </tr>\n",
       "    <tr>\n",
       "      <th>1</th>\n",
       "      <td>-122.22</td>\n",
       "      <td>37.86</td>\n",
       "      <td>21.0</td>\n",
       "      <td>7099.0</td>\n",
       "      <td>1106.0</td>\n",
       "      <td>2401.0</td>\n",
       "      <td>1138.0</td>\n",
       "      <td>8.3014</td>\n",
       "      <td>358500.0</td>\n",
       "      <td>NEAR BAY</td>\n",
       "    </tr>\n",
       "    <tr>\n",
       "      <th>2</th>\n",
       "      <td>-122.24</td>\n",
       "      <td>37.85</td>\n",
       "      <td>52.0</td>\n",
       "      <td>1467.0</td>\n",
       "      <td>190.0</td>\n",
       "      <td>496.0</td>\n",
       "      <td>177.0</td>\n",
       "      <td>7.2574</td>\n",
       "      <td>352100.0</td>\n",
       "      <td>NEAR BAY</td>\n",
       "    </tr>\n",
       "    <tr>\n",
       "      <th>3</th>\n",
       "      <td>-122.25</td>\n",
       "      <td>37.85</td>\n",
       "      <td>52.0</td>\n",
       "      <td>1274.0</td>\n",
       "      <td>235.0</td>\n",
       "      <td>558.0</td>\n",
       "      <td>219.0</td>\n",
       "      <td>5.6431</td>\n",
       "      <td>341300.0</td>\n",
       "      <td>NEAR BAY</td>\n",
       "    </tr>\n",
       "    <tr>\n",
       "      <th>4</th>\n",
       "      <td>-122.25</td>\n",
       "      <td>37.85</td>\n",
       "      <td>52.0</td>\n",
       "      <td>1627.0</td>\n",
       "      <td>280.0</td>\n",
       "      <td>565.0</td>\n",
       "      <td>259.0</td>\n",
       "      <td>3.8462</td>\n",
       "      <td>342200.0</td>\n",
       "      <td>NEAR BAY</td>\n",
       "    </tr>\n",
       "    <tr>\n",
       "      <th>...</th>\n",
       "      <td>...</td>\n",
       "      <td>...</td>\n",
       "      <td>...</td>\n",
       "      <td>...</td>\n",
       "      <td>...</td>\n",
       "      <td>...</td>\n",
       "      <td>...</td>\n",
       "      <td>...</td>\n",
       "      <td>...</td>\n",
       "      <td>...</td>\n",
       "    </tr>\n",
       "    <tr>\n",
       "      <th>20635</th>\n",
       "      <td>-121.09</td>\n",
       "      <td>39.48</td>\n",
       "      <td>25.0</td>\n",
       "      <td>1665.0</td>\n",
       "      <td>374.0</td>\n",
       "      <td>845.0</td>\n",
       "      <td>330.0</td>\n",
       "      <td>1.5603</td>\n",
       "      <td>78100.0</td>\n",
       "      <td>INLAND</td>\n",
       "    </tr>\n",
       "    <tr>\n",
       "      <th>20636</th>\n",
       "      <td>-121.21</td>\n",
       "      <td>39.49</td>\n",
       "      <td>18.0</td>\n",
       "      <td>697.0</td>\n",
       "      <td>150.0</td>\n",
       "      <td>356.0</td>\n",
       "      <td>114.0</td>\n",
       "      <td>2.5568</td>\n",
       "      <td>77100.0</td>\n",
       "      <td>INLAND</td>\n",
       "    </tr>\n",
       "    <tr>\n",
       "      <th>20637</th>\n",
       "      <td>-121.22</td>\n",
       "      <td>39.43</td>\n",
       "      <td>17.0</td>\n",
       "      <td>2254.0</td>\n",
       "      <td>485.0</td>\n",
       "      <td>1007.0</td>\n",
       "      <td>433.0</td>\n",
       "      <td>1.7000</td>\n",
       "      <td>92300.0</td>\n",
       "      <td>INLAND</td>\n",
       "    </tr>\n",
       "    <tr>\n",
       "      <th>20638</th>\n",
       "      <td>-121.32</td>\n",
       "      <td>39.43</td>\n",
       "      <td>18.0</td>\n",
       "      <td>1860.0</td>\n",
       "      <td>409.0</td>\n",
       "      <td>741.0</td>\n",
       "      <td>349.0</td>\n",
       "      <td>1.8672</td>\n",
       "      <td>84700.0</td>\n",
       "      <td>INLAND</td>\n",
       "    </tr>\n",
       "    <tr>\n",
       "      <th>20639</th>\n",
       "      <td>-121.24</td>\n",
       "      <td>39.37</td>\n",
       "      <td>16.0</td>\n",
       "      <td>2785.0</td>\n",
       "      <td>616.0</td>\n",
       "      <td>1387.0</td>\n",
       "      <td>530.0</td>\n",
       "      <td>2.3886</td>\n",
       "      <td>89400.0</td>\n",
       "      <td>INLAND</td>\n",
       "    </tr>\n",
       "  </tbody>\n",
       "</table>\n",
       "<p>20433 rows × 10 columns</p>\n",
       "</div>"
      ],
      "text/plain": [
       "       longitude  latitude  housing_median_age  total_rooms  total_bedrooms  \\\n",
       "0        -122.23     37.88                41.0        880.0           129.0   \n",
       "1        -122.22     37.86                21.0       7099.0          1106.0   \n",
       "2        -122.24     37.85                52.0       1467.0           190.0   \n",
       "3        -122.25     37.85                52.0       1274.0           235.0   \n",
       "4        -122.25     37.85                52.0       1627.0           280.0   \n",
       "...          ...       ...                 ...          ...             ...   \n",
       "20635    -121.09     39.48                25.0       1665.0           374.0   \n",
       "20636    -121.21     39.49                18.0        697.0           150.0   \n",
       "20637    -121.22     39.43                17.0       2254.0           485.0   \n",
       "20638    -121.32     39.43                18.0       1860.0           409.0   \n",
       "20639    -121.24     39.37                16.0       2785.0           616.0   \n",
       "\n",
       "       population  households  median_income  median_house_value  \\\n",
       "0           322.0       126.0         8.3252            452600.0   \n",
       "1          2401.0      1138.0         8.3014            358500.0   \n",
       "2           496.0       177.0         7.2574            352100.0   \n",
       "3           558.0       219.0         5.6431            341300.0   \n",
       "4           565.0       259.0         3.8462            342200.0   \n",
       "...           ...         ...            ...                 ...   \n",
       "20635       845.0       330.0         1.5603             78100.0   \n",
       "20636       356.0       114.0         2.5568             77100.0   \n",
       "20637      1007.0       433.0         1.7000             92300.0   \n",
       "20638       741.0       349.0         1.8672             84700.0   \n",
       "20639      1387.0       530.0         2.3886             89400.0   \n",
       "\n",
       "      ocean_proximity  \n",
       "0            NEAR BAY  \n",
       "1            NEAR BAY  \n",
       "2            NEAR BAY  \n",
       "3            NEAR BAY  \n",
       "4            NEAR BAY  \n",
       "...               ...  \n",
       "20635          INLAND  \n",
       "20636          INLAND  \n",
       "20637          INLAND  \n",
       "20638          INLAND  \n",
       "20639          INLAND  \n",
       "\n",
       "[20433 rows x 10 columns]"
      ]
     },
     "execution_count": 2,
     "metadata": {},
     "output_type": "execute_result"
    }
   ],
   "source": [
    "import pandas as pd\n",
    "df = pd.read_csv(\"C:\\\\Users\\\\S.S.S.Dhyuthidhar\\\\Videos\\\\ML_Practice_kaggle\\\\California_Housing\\housing.csv\")\n",
    "df = df.dropna()\n",
    "df"
   ]
  },
  {
   "cell_type": "code",
   "execution_count": 3,
   "id": "75ea8f64",
   "metadata": {},
   "outputs": [
    {
     "data": {
      "text/html": [
       "<div>\n",
       "<style scoped>\n",
       "    .dataframe tbody tr th:only-of-type {\n",
       "        vertical-align: middle;\n",
       "    }\n",
       "\n",
       "    .dataframe tbody tr th {\n",
       "        vertical-align: top;\n",
       "    }\n",
       "\n",
       "    .dataframe thead th {\n",
       "        text-align: right;\n",
       "    }\n",
       "</style>\n",
       "<table border=\"1\" class=\"dataframe\">\n",
       "  <thead>\n",
       "    <tr style=\"text-align: right;\">\n",
       "      <th></th>\n",
       "      <th>longitude</th>\n",
       "      <th>latitude</th>\n",
       "      <th>housing_median_age</th>\n",
       "      <th>total_rooms</th>\n",
       "      <th>total_bedrooms</th>\n",
       "      <th>population</th>\n",
       "      <th>households</th>\n",
       "      <th>median_income</th>\n",
       "      <th>median_house_value</th>\n",
       "      <th>ocean_proximity</th>\n",
       "    </tr>\n",
       "  </thead>\n",
       "  <tbody>\n",
       "    <tr>\n",
       "      <th>0</th>\n",
       "      <td>-118.46</td>\n",
       "      <td>34.07</td>\n",
       "      <td>42.0</td>\n",
       "      <td>2564.0</td>\n",
       "      <td>460.0</td>\n",
       "      <td>913.0</td>\n",
       "      <td>414.0</td>\n",
       "      <td>9.2225</td>\n",
       "      <td>500001.0</td>\n",
       "      <td>&lt;1H OCEAN</td>\n",
       "    </tr>\n",
       "    <tr>\n",
       "      <th>1</th>\n",
       "      <td>-121.81</td>\n",
       "      <td>37.27</td>\n",
       "      <td>22.0</td>\n",
       "      <td>2996.0</td>\n",
       "      <td>695.0</td>\n",
       "      <td>2169.0</td>\n",
       "      <td>607.0</td>\n",
       "      <td>4.3438</td>\n",
       "      <td>209700.0</td>\n",
       "      <td>&lt;1H OCEAN</td>\n",
       "    </tr>\n",
       "    <tr>\n",
       "      <th>2</th>\n",
       "      <td>-122.33</td>\n",
       "      <td>40.48</td>\n",
       "      <td>26.0</td>\n",
       "      <td>695.0</td>\n",
       "      <td>126.0</td>\n",
       "      <td>319.0</td>\n",
       "      <td>124.0</td>\n",
       "      <td>3.2788</td>\n",
       "      <td>101600.0</td>\n",
       "      <td>INLAND</td>\n",
       "    </tr>\n",
       "    <tr>\n",
       "      <th>3</th>\n",
       "      <td>-117.62</td>\n",
       "      <td>33.42</td>\n",
       "      <td>27.0</td>\n",
       "      <td>1444.0</td>\n",
       "      <td>412.0</td>\n",
       "      <td>597.0</td>\n",
       "      <td>311.0</td>\n",
       "      <td>3.1395</td>\n",
       "      <td>310000.0</td>\n",
       "      <td>NEAR OCEAN</td>\n",
       "    </tr>\n",
       "    <tr>\n",
       "      <th>4</th>\n",
       "      <td>-122.36</td>\n",
       "      <td>38.41</td>\n",
       "      <td>18.0</td>\n",
       "      <td>1808.0</td>\n",
       "      <td>400.0</td>\n",
       "      <td>968.0</td>\n",
       "      <td>370.0</td>\n",
       "      <td>3.7067</td>\n",
       "      <td>175000.0</td>\n",
       "      <td>INLAND</td>\n",
       "    </tr>\n",
       "    <tr>\n",
       "      <th>...</th>\n",
       "      <td>...</td>\n",
       "      <td>...</td>\n",
       "      <td>...</td>\n",
       "      <td>...</td>\n",
       "      <td>...</td>\n",
       "      <td>...</td>\n",
       "      <td>...</td>\n",
       "      <td>...</td>\n",
       "      <td>...</td>\n",
       "      <td>...</td>\n",
       "    </tr>\n",
       "    <tr>\n",
       "      <th>16341</th>\n",
       "      <td>-117.62</td>\n",
       "      <td>33.43</td>\n",
       "      <td>27.0</td>\n",
       "      <td>3858.0</td>\n",
       "      <td>1062.0</td>\n",
       "      <td>2321.0</td>\n",
       "      <td>873.0</td>\n",
       "      <td>3.3155</td>\n",
       "      <td>231000.0</td>\n",
       "      <td>NEAR OCEAN</td>\n",
       "    </tr>\n",
       "    <tr>\n",
       "      <th>16342</th>\n",
       "      <td>-118.30</td>\n",
       "      <td>34.09</td>\n",
       "      <td>40.0</td>\n",
       "      <td>3058.0</td>\n",
       "      <td>1215.0</td>\n",
       "      <td>3953.0</td>\n",
       "      <td>1223.0</td>\n",
       "      <td>1.8156</td>\n",
       "      <td>218800.0</td>\n",
       "      <td>&lt;1H OCEAN</td>\n",
       "    </tr>\n",
       "    <tr>\n",
       "      <th>16343</th>\n",
       "      <td>-119.95</td>\n",
       "      <td>38.95</td>\n",
       "      <td>22.0</td>\n",
       "      <td>1058.0</td>\n",
       "      <td>352.0</td>\n",
       "      <td>851.0</td>\n",
       "      <td>269.0</td>\n",
       "      <td>2.0200</td>\n",
       "      <td>87500.0</td>\n",
       "      <td>INLAND</td>\n",
       "    </tr>\n",
       "    <tr>\n",
       "      <th>16344</th>\n",
       "      <td>-119.73</td>\n",
       "      <td>36.83</td>\n",
       "      <td>14.0</td>\n",
       "      <td>3348.0</td>\n",
       "      <td>491.0</td>\n",
       "      <td>1584.0</td>\n",
       "      <td>493.0</td>\n",
       "      <td>5.0828</td>\n",
       "      <td>111400.0</td>\n",
       "      <td>INLAND</td>\n",
       "    </tr>\n",
       "    <tr>\n",
       "      <th>16345</th>\n",
       "      <td>-117.97</td>\n",
       "      <td>33.89</td>\n",
       "      <td>15.0</td>\n",
       "      <td>3801.0</td>\n",
       "      <td>542.0</td>\n",
       "      <td>1992.0</td>\n",
       "      <td>526.0</td>\n",
       "      <td>9.0683</td>\n",
       "      <td>367400.0</td>\n",
       "      <td>&lt;1H OCEAN</td>\n",
       "    </tr>\n",
       "  </tbody>\n",
       "</table>\n",
       "<p>16346 rows × 10 columns</p>\n",
       "</div>"
      ],
      "text/plain": [
       "       longitude  latitude  housing_median_age  total_rooms  total_bedrooms  \\\n",
       "0        -118.46     34.07                42.0       2564.0           460.0   \n",
       "1        -121.81     37.27                22.0       2996.0           695.0   \n",
       "2        -122.33     40.48                26.0        695.0           126.0   \n",
       "3        -117.62     33.42                27.0       1444.0           412.0   \n",
       "4        -122.36     38.41                18.0       1808.0           400.0   \n",
       "...          ...       ...                 ...          ...             ...   \n",
       "16341    -117.62     33.43                27.0       3858.0          1062.0   \n",
       "16342    -118.30     34.09                40.0       3058.0          1215.0   \n",
       "16343    -119.95     38.95                22.0       1058.0           352.0   \n",
       "16344    -119.73     36.83                14.0       3348.0           491.0   \n",
       "16345    -117.97     33.89                15.0       3801.0           542.0   \n",
       "\n",
       "       population  households  median_income  median_house_value  \\\n",
       "0           913.0       414.0         9.2225            500001.0   \n",
       "1          2169.0       607.0         4.3438            209700.0   \n",
       "2           319.0       124.0         3.2788            101600.0   \n",
       "3           597.0       311.0         3.1395            310000.0   \n",
       "4           968.0       370.0         3.7067            175000.0   \n",
       "...           ...         ...            ...                 ...   \n",
       "16341      2321.0       873.0         3.3155            231000.0   \n",
       "16342      3953.0      1223.0         1.8156            218800.0   \n",
       "16343       851.0       269.0         2.0200             87500.0   \n",
       "16344      1584.0       493.0         5.0828            111400.0   \n",
       "16345      1992.0       526.0         9.0683            367400.0   \n",
       "\n",
       "      ocean_proximity  \n",
       "0           <1H OCEAN  \n",
       "1           <1H OCEAN  \n",
       "2              INLAND  \n",
       "3          NEAR OCEAN  \n",
       "4              INLAND  \n",
       "...               ...  \n",
       "16341      NEAR OCEAN  \n",
       "16342       <1H OCEAN  \n",
       "16343          INLAND  \n",
       "16344          INLAND  \n",
       "16345       <1H OCEAN  \n",
       "\n",
       "[16346 rows x 10 columns]"
      ]
     },
     "execution_count": 3,
     "metadata": {},
     "output_type": "execute_result"
    }
   ],
   "source": [
    "from sklearn.model_selection import train_test_split\n",
    "\n",
    "# Assuming 'df' is your original DataFrame\n",
    "\n",
    "# Shuffle the DataFrame\n",
    "df_shuffled = df.sample(frac=1, random_state=2)\n",
    "\n",
    "# Split the data using train_test_split\n",
    "train_df, test_df = train_test_split(df_shuffled, test_size=0.2, random_state=2)\n",
    "\n",
    "# Resetting the index for both DataFrames\n",
    "train_df = train_df.reset_index(drop=True)\n",
    "test_df = test_df.reset_index(drop=True)\n",
    "\n",
    "train_df\n"
   ]
  },
  {
   "cell_type": "code",
   "execution_count": 4,
   "id": "f275d405",
   "metadata": {},
   "outputs": [
    {
     "data": {
      "text/html": [
       "<div>\n",
       "<style scoped>\n",
       "    .dataframe tbody tr th:only-of-type {\n",
       "        vertical-align: middle;\n",
       "    }\n",
       "\n",
       "    .dataframe tbody tr th {\n",
       "        vertical-align: top;\n",
       "    }\n",
       "\n",
       "    .dataframe thead th {\n",
       "        text-align: right;\n",
       "    }\n",
       "</style>\n",
       "<table border=\"1\" class=\"dataframe\">\n",
       "  <thead>\n",
       "    <tr style=\"text-align: right;\">\n",
       "      <th></th>\n",
       "      <th>longitude</th>\n",
       "      <th>latitude</th>\n",
       "      <th>housing_median_age</th>\n",
       "      <th>total_rooms</th>\n",
       "      <th>total_bedrooms</th>\n",
       "      <th>population</th>\n",
       "      <th>households</th>\n",
       "      <th>median_income</th>\n",
       "      <th>median_house_value</th>\n",
       "      <th>ocean_proximity</th>\n",
       "    </tr>\n",
       "  </thead>\n",
       "  <tbody>\n",
       "    <tr>\n",
       "      <th>0</th>\n",
       "      <td>-121.58</td>\n",
       "      <td>39.16</td>\n",
       "      <td>33.0</td>\n",
       "      <td>1897.0</td>\n",
       "      <td>378.0</td>\n",
       "      <td>888.0</td>\n",
       "      <td>385.0</td>\n",
       "      <td>2.1111</td>\n",
       "      <td>68700.0</td>\n",
       "      <td>INLAND</td>\n",
       "    </tr>\n",
       "    <tr>\n",
       "      <th>1</th>\n",
       "      <td>-118.12</td>\n",
       "      <td>34.14</td>\n",
       "      <td>52.0</td>\n",
       "      <td>2337.0</td>\n",
       "      <td>352.0</td>\n",
       "      <td>981.0</td>\n",
       "      <td>328.0</td>\n",
       "      <td>5.8692</td>\n",
       "      <td>490400.0</td>\n",
       "      <td>&lt;1H OCEAN</td>\n",
       "    </tr>\n",
       "    <tr>\n",
       "      <th>2</th>\n",
       "      <td>-122.23</td>\n",
       "      <td>37.76</td>\n",
       "      <td>52.0</td>\n",
       "      <td>1705.0</td>\n",
       "      <td>246.0</td>\n",
       "      <td>658.0</td>\n",
       "      <td>253.0</td>\n",
       "      <td>5.7500</td>\n",
       "      <td>306300.0</td>\n",
       "      <td>NEAR BAY</td>\n",
       "    </tr>\n",
       "    <tr>\n",
       "      <th>3</th>\n",
       "      <td>-122.19</td>\n",
       "      <td>37.74</td>\n",
       "      <td>36.0</td>\n",
       "      <td>847.0</td>\n",
       "      <td>212.0</td>\n",
       "      <td>567.0</td>\n",
       "      <td>159.0</td>\n",
       "      <td>1.1765</td>\n",
       "      <td>87100.0</td>\n",
       "      <td>NEAR BAY</td>\n",
       "    </tr>\n",
       "    <tr>\n",
       "      <th>4</th>\n",
       "      <td>-121.23</td>\n",
       "      <td>37.96</td>\n",
       "      <td>44.0</td>\n",
       "      <td>2204.0</td>\n",
       "      <td>473.0</td>\n",
       "      <td>1277.0</td>\n",
       "      <td>435.0</td>\n",
       "      <td>1.5539</td>\n",
       "      <td>59200.0</td>\n",
       "      <td>INLAND</td>\n",
       "    </tr>\n",
       "    <tr>\n",
       "      <th>...</th>\n",
       "      <td>...</td>\n",
       "      <td>...</td>\n",
       "      <td>...</td>\n",
       "      <td>...</td>\n",
       "      <td>...</td>\n",
       "      <td>...</td>\n",
       "      <td>...</td>\n",
       "      <td>...</td>\n",
       "      <td>...</td>\n",
       "      <td>...</td>\n",
       "    </tr>\n",
       "    <tr>\n",
       "      <th>4082</th>\n",
       "      <td>-118.28</td>\n",
       "      <td>34.05</td>\n",
       "      <td>31.0</td>\n",
       "      <td>1525.0</td>\n",
       "      <td>730.0</td>\n",
       "      <td>2510.0</td>\n",
       "      <td>652.0</td>\n",
       "      <td>1.6355</td>\n",
       "      <td>162500.0</td>\n",
       "      <td>&lt;1H OCEAN</td>\n",
       "    </tr>\n",
       "    <tr>\n",
       "      <th>4083</th>\n",
       "      <td>-122.47</td>\n",
       "      <td>37.73</td>\n",
       "      <td>50.0</td>\n",
       "      <td>1653.0</td>\n",
       "      <td>252.0</td>\n",
       "      <td>641.0</td>\n",
       "      <td>224.0</td>\n",
       "      <td>10.6605</td>\n",
       "      <td>500001.0</td>\n",
       "      <td>NEAR OCEAN</td>\n",
       "    </tr>\n",
       "    <tr>\n",
       "      <th>4084</th>\n",
       "      <td>-117.66</td>\n",
       "      <td>34.06</td>\n",
       "      <td>39.0</td>\n",
       "      <td>1405.0</td>\n",
       "      <td>339.0</td>\n",
       "      <td>1489.0</td>\n",
       "      <td>336.0</td>\n",
       "      <td>1.6080</td>\n",
       "      <td>91800.0</td>\n",
       "      <td>INLAND</td>\n",
       "    </tr>\n",
       "    <tr>\n",
       "      <th>4085</th>\n",
       "      <td>-122.00</td>\n",
       "      <td>38.38</td>\n",
       "      <td>16.0</td>\n",
       "      <td>2509.0</td>\n",
       "      <td>366.0</td>\n",
       "      <td>1043.0</td>\n",
       "      <td>339.0</td>\n",
       "      <td>6.0704</td>\n",
       "      <td>173400.0</td>\n",
       "      <td>INLAND</td>\n",
       "    </tr>\n",
       "    <tr>\n",
       "      <th>4086</th>\n",
       "      <td>-122.46</td>\n",
       "      <td>40.52</td>\n",
       "      <td>13.0</td>\n",
       "      <td>2085.0</td>\n",
       "      <td>322.0</td>\n",
       "      <td>1077.0</td>\n",
       "      <td>333.0</td>\n",
       "      <td>5.2149</td>\n",
       "      <td>146500.0</td>\n",
       "      <td>INLAND</td>\n",
       "    </tr>\n",
       "  </tbody>\n",
       "</table>\n",
       "<p>4087 rows × 10 columns</p>\n",
       "</div>"
      ],
      "text/plain": [
       "      longitude  latitude  housing_median_age  total_rooms  total_bedrooms  \\\n",
       "0       -121.58     39.16                33.0       1897.0           378.0   \n",
       "1       -118.12     34.14                52.0       2337.0           352.0   \n",
       "2       -122.23     37.76                52.0       1705.0           246.0   \n",
       "3       -122.19     37.74                36.0        847.0           212.0   \n",
       "4       -121.23     37.96                44.0       2204.0           473.0   \n",
       "...         ...       ...                 ...          ...             ...   \n",
       "4082    -118.28     34.05                31.0       1525.0           730.0   \n",
       "4083    -122.47     37.73                50.0       1653.0           252.0   \n",
       "4084    -117.66     34.06                39.0       1405.0           339.0   \n",
       "4085    -122.00     38.38                16.0       2509.0           366.0   \n",
       "4086    -122.46     40.52                13.0       2085.0           322.0   \n",
       "\n",
       "      population  households  median_income  median_house_value  \\\n",
       "0          888.0       385.0         2.1111             68700.0   \n",
       "1          981.0       328.0         5.8692            490400.0   \n",
       "2          658.0       253.0         5.7500            306300.0   \n",
       "3          567.0       159.0         1.1765             87100.0   \n",
       "4         1277.0       435.0         1.5539             59200.0   \n",
       "...          ...         ...            ...                 ...   \n",
       "4082      2510.0       652.0         1.6355            162500.0   \n",
       "4083       641.0       224.0        10.6605            500001.0   \n",
       "4084      1489.0       336.0         1.6080             91800.0   \n",
       "4085      1043.0       339.0         6.0704            173400.0   \n",
       "4086      1077.0       333.0         5.2149            146500.0   \n",
       "\n",
       "     ocean_proximity  \n",
       "0             INLAND  \n",
       "1          <1H OCEAN  \n",
       "2           NEAR BAY  \n",
       "3           NEAR BAY  \n",
       "4             INLAND  \n",
       "...              ...  \n",
       "4082       <1H OCEAN  \n",
       "4083      NEAR OCEAN  \n",
       "4084          INLAND  \n",
       "4085          INLAND  \n",
       "4086          INLAND  \n",
       "\n",
       "[4087 rows x 10 columns]"
      ]
     },
     "execution_count": 4,
     "metadata": {},
     "output_type": "execute_result"
    }
   ],
   "source": [
    "test_df"
   ]
  },
  {
   "cell_type": "code",
   "execution_count": 5,
   "id": "0083290f",
   "metadata": {},
   "outputs": [
    {
     "data": {
      "text/plain": [
       "((16346,), (4087,))"
      ]
     },
     "execution_count": 5,
     "metadata": {},
     "output_type": "execute_result"
    }
   ],
   "source": [
    "# Get observed outputs for train and test\n",
    "\n",
    "y_train = train_df['median_house_value'].to_numpy()\n",
    "y_test = test_df['median_house_value'].to_numpy()\n",
    "\n",
    "y_train.shape, y_test.shape"
   ]
  },
  {
   "cell_type": "code",
   "execution_count": 6,
   "id": "a9f4da37",
   "metadata": {},
   "outputs": [
    {
     "data": {
      "text/plain": [
       "91224.83230593217"
      ]
     },
     "execution_count": 6,
     "metadata": {},
     "output_type": "execute_result"
    }
   ],
   "source": [
    "# Get error of baseline model that uses the average median_house_value in train_df\n",
    "\n",
    "from sklearn.metrics import mean_absolute_error\n",
    "\n",
    "average_median_house_value = train_df['median_house_value'].mean()\n",
    "baseline_model_test_predictions = [average_median_house_value] * len(test_df)\n",
    "\n",
    "mean_absolute_error(baseline_model_test_predictions, y_test)"
   ]
  },
  {
   "cell_type": "markdown",
   "id": "7a56acf0",
   "metadata": {},
   "source": [
    "# 1. PCA(Dimensionality Reduction)"
   ]
  },
  {
   "cell_type": "code",
   "execution_count": 7,
   "id": "852333ce",
   "metadata": {},
   "outputs": [
    {
     "data": {
      "text/html": [
       "<div>\n",
       "<style scoped>\n",
       "    .dataframe tbody tr th:only-of-type {\n",
       "        vertical-align: middle;\n",
       "    }\n",
       "\n",
       "    .dataframe tbody tr th {\n",
       "        vertical-align: top;\n",
       "    }\n",
       "\n",
       "    .dataframe thead th {\n",
       "        text-align: right;\n",
       "    }\n",
       "</style>\n",
       "<table border=\"1\" class=\"dataframe\">\n",
       "  <thead>\n",
       "    <tr style=\"text-align: right;\">\n",
       "      <th></th>\n",
       "      <th>total_rooms</th>\n",
       "      <th>total_bedrooms</th>\n",
       "      <th>households</th>\n",
       "    </tr>\n",
       "  </thead>\n",
       "  <tbody>\n",
       "    <tr>\n",
       "      <th>total_rooms</th>\n",
       "      <td>1.000000</td>\n",
       "      <td>0.928748</td>\n",
       "      <td>0.917816</td>\n",
       "    </tr>\n",
       "    <tr>\n",
       "      <th>total_bedrooms</th>\n",
       "      <td>0.928748</td>\n",
       "      <td>1.000000</td>\n",
       "      <td>0.979811</td>\n",
       "    </tr>\n",
       "    <tr>\n",
       "      <th>households</th>\n",
       "      <td>0.917816</td>\n",
       "      <td>0.979811</td>\n",
       "      <td>1.000000</td>\n",
       "    </tr>\n",
       "  </tbody>\n",
       "</table>\n",
       "</div>"
      ],
      "text/plain": [
       "                total_rooms  total_bedrooms  households\n",
       "total_rooms        1.000000        0.928748    0.917816\n",
       "total_bedrooms     0.928748        1.000000    0.979811\n",
       "households         0.917816        0.979811    1.000000"
      ]
     },
     "execution_count": 7,
     "metadata": {},
     "output_type": "execute_result"
    }
   ],
   "source": [
    "#observe correlation between total_rooms, total_bedrooms, Households\n",
    "\n",
    "train_df[['total_rooms','total_bedrooms','households']].corr()"
   ]
  },
  {
   "cell_type": "code",
   "execution_count": 8,
   "id": "c4075686",
   "metadata": {},
   "outputs": [
    {
     "data": {
      "text/plain": [
       "(16346, 3)"
      ]
     },
     "execution_count": 8,
     "metadata": {},
     "output_type": "execute_result"
    }
   ],
   "source": [
    "# Get X_train_3 which has total_rooms, total_bedrooms, and households as inputs\n",
    "\n",
    "import numpy as np\n",
    "\n",
    "X_train_3 = train_df[['total_rooms', 'total_bedrooms', 'households']].to_numpy()\n",
    "\n",
    "X_train_3.shape"
   ]
  },
  {
   "cell_type": "code",
   "execution_count": 9,
   "id": "bf18f90e",
   "metadata": {},
   "outputs": [
    {
     "data": {
      "text/plain": [
       "(4087, 3)"
      ]
     },
     "execution_count": 9,
     "metadata": {},
     "output_type": "execute_result"
    }
   ],
   "source": [
    "# Get X_test_3 which has total_rooms, total_bedrooms, and households as inputs\n",
    "\n",
    "X_test_3 = test_df[['total_rooms', 'total_bedrooms', 'households']].to_numpy()\n",
    "\n",
    "X_test_3.shape"
   ]
  },
  {
   "cell_type": "code",
   "execution_count": 10,
   "id": "1096d8ac",
   "metadata": {},
   "outputs": [
    {
     "data": {
      "text/plain": [
       "longitude             0\n",
       "latitude              0\n",
       "housing_median_age    0\n",
       "total_rooms           0\n",
       "total_bedrooms        0\n",
       "population            0\n",
       "households            0\n",
       "median_income         0\n",
       "median_house_value    0\n",
       "ocean_proximity       0\n",
       "dtype: int64"
      ]
     },
     "execution_count": 10,
     "metadata": {},
     "output_type": "execute_result"
    }
   ],
   "source": [
    "df.isna().sum()"
   ]
  },
  {
   "cell_type": "code",
   "execution_count": 11,
   "id": "e432d64c",
   "metadata": {},
   "outputs": [
    {
     "data": {
      "text/plain": [
       "81378.87146787887"
      ]
     },
     "execution_count": 11,
     "metadata": {},
     "output_type": "execute_result"
    }
   ],
   "source": [
    "# Get error of random forest training on just (X_train_3, y_train) and testing on (X_test_3, y_test)\n",
    "\n",
    "from sklearn.ensemble import RandomForestRegressor\n",
    "\n",
    "forest_base = RandomForestRegressor(n_estimators=50, max_depth=5).fit(X_train_3, y_train)\n",
    "forest_base_test_predictions = forest_base.predict(X_test_3)\n",
    "mean_absolute_error(y_test, forest_base_test_predictions)"
   ]
  },
  {
   "cell_type": "markdown",
   "id": "62f3010a",
   "metadata": {},
   "source": [
    "## 2. Preprocessing / Scaling"
   ]
  },
  {
   "cell_type": "code",
   "execution_count": 14,
   "id": "104a7a1a",
   "metadata": {},
   "outputs": [
    {
     "data": {
      "text/plain": [
       "array([[2564.,  460.,  414.],\n",
       "       [2996.,  695.,  607.],\n",
       "       [ 695.,  126.,  124.],\n",
       "       ...,\n",
       "       [1058.,  352.,  269.],\n",
       "       [3348.,  491.,  493.],\n",
       "       [3801.,  542.,  526.]])"
      ]
     },
     "execution_count": 14,
     "metadata": {},
     "output_type": "execute_result"
    }
   ],
   "source": [
    "X_train_3"
   ]
  },
  {
   "cell_type": "code",
   "execution_count": 16,
   "id": "b8f2794b",
   "metadata": {},
   "outputs": [
    {
     "data": {
      "text/plain": [
       "(array([1.2241e+04, 3.3280e+03, 5.4200e+02, 1.3700e+02, 5.6000e+01,\n",
       "        1.7000e+01, 1.5000e+01, 6.0000e+00, 2.0000e+00, 2.0000e+00]),\n",
       " array([-1.27825035,  0.25771539,  1.79368113,  3.32964687,  4.86561261,\n",
       "         6.40157835,  7.93754408,  9.47350982, 11.00947556, 12.5454413 ,\n",
       "        14.08140704]),\n",
       " <BarContainer object of 10 artists>)"
      ]
     },
     "execution_count": 16,
     "metadata": {},
     "output_type": "execute_result"
    },
    {
     "data": {
      "image/png": "[encoded data removed]",
      "text/plain": [
       "<Figure size 640x480 with 1 Axes>"
      ]
     },
     "metadata": {},
     "output_type": "display_data"
    }
   ],
   "source": [
    "# Test different preprocessing functions on X_train_3\n",
    "\n",
    "from sklearn.preprocessing import StandardScaler, Normalizer, MinMaxScaler\n",
    "import matplotlib.pyplot as plt\n",
    "\n",
    "scaler = StandardScaler().fit(X_train_3)\n",
    "X_train_3_scaled = scaler.transform(X_train_3)\n",
    "\n",
    "plt.hist(X_train_3_scaled[:, 1])"
   ]
  },
  {
   "cell_type": "code",
   "execution_count": 17,
   "id": "d3ec251f",
   "metadata": {},
   "outputs": [
    {
     "data": {
      "text/plain": [
       "array([[-0.03108758, -0.18419654, -0.22273502],\n",
       "       [ 0.16851588,  0.37593994,  0.2834063 ],\n",
       "       [-0.89464977, -0.98030541, -0.98325825],\n",
       "       ...,\n",
       "       [-0.72692742, -0.44162096, -0.60299663],\n",
       "       [ 0.33115574, -0.11030619, -0.015558  ],\n",
       "       [ 0.54046214,  0.01125534,  0.0709843 ]])"
      ]
     },
     "execution_count": 17,
     "metadata": {},
     "output_type": "execute_result"
    }
   ],
   "source": [
    "#values are between -1 to 6 this happend due to standardization\n",
    "X_train_3_scaled"
   ]
  },
  {
   "cell_type": "code",
   "execution_count": 18,
   "id": "5ad25de0",
   "metadata": {},
   "outputs": [
    {
     "data": {
      "text/plain": [
       "(4087, 3)"
      ]
     },
     "execution_count": 18,
     "metadata": {},
     "output_type": "execute_result"
    }
   ],
   "source": [
    "# Preprocess X_test_3\n",
    "\n",
    "X_test_3_scaled = scaler.transform(X_test_3)\n",
    "\n",
    "X_test_3_scaled.shape"
   ]
  },
  {
   "cell_type": "code",
   "execution_count": 19,
   "id": "3bafec1a",
   "metadata": {},
   "outputs": [
    {
     "data": {
      "text/plain": [
       "81258.59385165141"
      ]
     },
     "execution_count": 19,
     "metadata": {},
     "output_type": "execute_result"
    }
   ],
   "source": [
    "# Get error of Random Forest training on (X_train_scaled, y_train) and testing on (X_test_scaled, y_test)\n",
    "\n",
    "random_forest_scaled = RandomForestRegressor(n_estimators=50, max_depth=5).fit(X_train_3_scaled, y_train)\n",
    "random_forest_scaled_test_predictions = random_forest_scaled.predict(X_test_3_scaled)\n",
    "\n",
    "mean_absolute_error(y_test, random_forest_scaled_test_predictions)"
   ]
  },
  {
   "cell_type": "code",
   "execution_count": 20,
   "id": "6478e8f4",
   "metadata": {},
   "outputs": [
    {
     "data": {
      "text/html": [
       "<style>#sk-container-id-2 {color: black;}#sk-container-id-2 pre{padding: 0;}#sk-container-id-2 div.sk-toggleable {background-color: white;}#sk-container-id-2 label.sk-toggleable__label {cursor: pointer;display: block;width: 100%;margin-bottom: 0;padding: 0.3em;box-sizing: border-box;text-align: center;}#sk-container-id-2 label.sk-toggleable__label-arrow:before {content: \"▸\";float: left;margin-right: 0.25em;color: #696969;}#sk-container-id-2 label.sk-toggleable__label-arrow:hover:before {color: black;}#sk-container-id-2 div.sk-estimator:hover label.sk-toggleable__label-arrow:before {color: black;}#sk-container-id-2 div.sk-toggleable__content {max-height: 0;max-width: 0;overflow: hidden;text-align: left;background-color: #f0f8ff;}#sk-container-id-2 div.sk-toggleable__content pre {margin: 0.2em;color: black;border-radius: 0.25em;background-color: #f0f8ff;}#sk-container-id-2 input.sk-toggleable__control:checked~div.sk-toggleable__content {max-height: 200px;max-width: 100%;overflow: auto;}#sk-container-id-2 input.sk-toggleable__control:checked~label.sk-toggleable__label-arrow:before {content: \"▾\";}#sk-container-id-2 div.sk-estimator input.sk-toggleable__control:checked~label.sk-toggleable__label {background-color: #d4ebff;}#sk-container-id-2 div.sk-label input.sk-toggleable__control:checked~label.sk-toggleable__label {background-color: #d4ebff;}#sk-container-id-2 input.sk-hidden--visually {border: 0;clip: rect(1px 1px 1px 1px);clip: rect(1px, 1px, 1px, 1px);height: 1px;margin: -1px;overflow: hidden;padding: 0;position: absolute;width: 1px;}#sk-container-id-2 div.sk-estimator {font-family: monospace;background-color: #f0f8ff;border: 1px dotted black;border-radius: 0.25em;box-sizing: border-box;margin-bottom: 0.5em;}#sk-container-id-2 div.sk-estimator:hover {background-color: #d4ebff;}#sk-container-id-2 div.sk-parallel-item::after {content: \"\";width: 100%;border-bottom: 1px solid gray;flex-grow: 1;}#sk-container-id-2 div.sk-label:hover label.sk-toggleable__label {background-color: #d4ebff;}#sk-container-id-2 div.sk-serial::before {content: \"\";position: absolute;border-left: 1px solid gray;box-sizing: border-box;top: 0;bottom: 0;left: 50%;z-index: 0;}#sk-container-id-2 div.sk-serial {display: flex;flex-direction: column;align-items: center;background-color: white;padding-right: 0.2em;padding-left: 0.2em;position: relative;}#sk-container-id-2 div.sk-item {position: relative;z-index: 1;}#sk-container-id-2 div.sk-parallel {display: flex;align-items: stretch;justify-content: center;background-color: white;position: relative;}#sk-container-id-2 div.sk-item::before, #sk-container-id-2 div.sk-parallel-item::before {content: \"\";position: absolute;border-left: 1px solid gray;box-sizing: border-box;top: 0;bottom: 0;left: 50%;z-index: -1;}#sk-container-id-2 div.sk-parallel-item {display: flex;flex-direction: column;z-index: 1;position: relative;background-color: white;}#sk-container-id-2 div.sk-parallel-item:first-child::after {align-self: flex-end;width: 50%;}#sk-container-id-2 div.sk-parallel-item:last-child::after {align-self: flex-start;width: 50%;}#sk-container-id-2 div.sk-parallel-item:only-child::after {width: 0;}#sk-container-id-2 div.sk-dashed-wrapped {border: 1px dashed gray;margin: 0 0.4em 0.5em 0.4em;box-sizing: border-box;padding-bottom: 0.4em;background-color: white;}#sk-container-id-2 div.sk-label label {font-family: monospace;font-weight: bold;display: inline-block;line-height: 1.2em;}#sk-container-id-2 div.sk-label-container {text-align: center;}#sk-container-id-2 div.sk-container {/* jupyter's `normalize.less` sets `[hidden] { display: none; }` but bootstrap.min.css set `[hidden] { display: none !important; }` so we also need the `!important` here to be able to override the default hidden behavior on the sphinx rendered scikit-learn.org. See: https://github.com/scikit-learn/scikit-learn/issues/21755 */display: inline-block !important;position: relative;}#sk-container-id-2 div.sk-text-repr-fallback {display: none;}</style><div id=\"sk-container-id-2\" class=\"sk-top-container\"><div class=\"sk-text-repr-fallback\"><pre>Pipeline(steps=[(&#x27;Scaler&#x27;, Normalizer()), (&#x27;PCA&#x27;, PCA(n_components=2)),\n",
       "                (&#x27;Forest&#x27;,\n",
       "                 RandomForestRegressor(max_depth=5, n_estimators=50))])</pre><b>In a Jupyter environment, please rerun this cell to show the HTML representation or trust the notebook. <br />On GitHub, the HTML representation is unable to render, please try loading this page with nbviewer.org.</b></div><div class=\"sk-container\" hidden><div class=\"sk-item sk-dashed-wrapped\"><div class=\"sk-label-container\"><div class=\"sk-label sk-toggleable\"><input class=\"sk-toggleable__control sk-hidden--visually\" id=\"sk-estimator-id-5\" type=\"checkbox\" ><label for=\"sk-estimator-id-5\" class=\"sk-toggleable__label sk-toggleable__label-arrow\">Pipeline</label><div class=\"sk-toggleable__content\"><pre>Pipeline(steps=[(&#x27;Scaler&#x27;, Normalizer()), (&#x27;PCA&#x27;, PCA(n_components=2)),\n",
       "                (&#x27;Forest&#x27;,\n",
       "                 RandomForestRegressor(max_depth=5, n_estimators=50))])</pre></div></div></div><div class=\"sk-serial\"><div class=\"sk-item\"><div class=\"sk-estimator sk-toggleable\"><input class=\"sk-toggleable__control sk-hidden--visually\" id=\"sk-estimator-id-6\" type=\"checkbox\" ><label for=\"sk-estimator-id-6\" class=\"sk-toggleable__label sk-toggleable__label-arrow\">Normalizer</label><div class=\"sk-toggleable__content\"><pre>Normalizer()</pre></div></div></div><div class=\"sk-item\"><div class=\"sk-estimator sk-toggleable\"><input class=\"sk-toggleable__control sk-hidden--visually\" id=\"sk-estimator-id-7\" type=\"checkbox\" ><label for=\"sk-estimator-id-7\" class=\"sk-toggleable__label sk-toggleable__label-arrow\">PCA</label><div class=\"sk-toggleable__content\"><pre>PCA(n_components=2)</pre></div></div></div><div class=\"sk-item\"><div class=\"sk-estimator sk-toggleable\"><input class=\"sk-toggleable__control sk-hidden--visually\" id=\"sk-estimator-id-8\" type=\"checkbox\" ><label for=\"sk-estimator-id-8\" class=\"sk-toggleable__label sk-toggleable__label-arrow\">RandomForestRegressor</label><div class=\"sk-toggleable__content\"><pre>RandomForestRegressor(max_depth=5, n_estimators=50)</pre></div></div></div></div></div></div></div>"
      ],
      "text/plain": [
       "Pipeline(steps=[('Scaler', Normalizer()), ('PCA', PCA(n_components=2)),\n",
       "                ('Forest',\n",
       "                 RandomForestRegressor(max_depth=5, n_estimators=50))])"
      ]
     },
     "execution_count": 20,
     "metadata": {},
     "output_type": "execute_result"
    }
   ],
   "source": [
    "# Create Pipeline of Normalization -> PCA -> RandomForest\n",
    "\n",
    "from sklearn.pipeline import Pipeline\n",
    "\n",
    "scale_pca_pipe_forest = Pipeline(steps=[('Scaler', Normalizer()), \n",
    "                                 ('PCA', PCA(n_components=2)), \n",
    "                                 ('Forest', RandomForestRegressor(n_estimators=50, max_depth=5))])\n",
    "scale_pca_pipe_forest"
   ]
  },
  {
   "cell_type": "code",
   "execution_count": 21,
   "id": "5043711c",
   "metadata": {},
   "outputs": [
    {
     "data": {
      "text/plain": [
       "77716.44063717853"
      ]
     },
     "execution_count": 21,
     "metadata": {},
     "output_type": "execute_result"
    }
   ],
   "source": [
    "# Get error of Normalization -> PCA -> Random Forest pipeline\n",
    "\n",
    "scale_pca_pipe_forest.fit(X_train_3, y_train)\n",
    "scale_pca_pipe_forest_test_predictions = scale_pca_pipe_forest.predict(X_test_3)\n",
    "\n",
    "mean_absolute_error(y_test, scale_pca_pipe_forest_test_predictions)"
   ]
  },
  {
   "cell_type": "code",
   "execution_count": 23,
   "id": "dd02ea38",
   "metadata": {},
   "outputs": [
    {
     "data": {
      "text/html": [
       "<style>#sk-container-id-3 {color: black;}#sk-container-id-3 pre{padding: 0;}#sk-container-id-3 div.sk-toggleable {background-color: white;}#sk-container-id-3 label.sk-toggleable__label {cursor: pointer;display: block;width: 100%;margin-bottom: 0;padding: 0.3em;box-sizing: border-box;text-align: center;}#sk-container-id-3 label.sk-toggleable__label-arrow:before {content: \"▸\";float: left;margin-right: 0.25em;color: #696969;}#sk-container-id-3 label.sk-toggleable__label-arrow:hover:before {color: black;}#sk-container-id-3 div.sk-estimator:hover label.sk-toggleable__label-arrow:before {color: black;}#sk-container-id-3 div.sk-toggleable__content {max-height: 0;max-width: 0;overflow: hidden;text-align: left;background-color: #f0f8ff;}#sk-container-id-3 div.sk-toggleable__content pre {margin: 0.2em;color: black;border-radius: 0.25em;background-color: #f0f8ff;}#sk-container-id-3 input.sk-toggleable__control:checked~div.sk-toggleable__content {max-height: 200px;max-width: 100%;overflow: auto;}#sk-container-id-3 input.sk-toggleable__control:checked~label.sk-toggleable__label-arrow:before {content: \"▾\";}#sk-container-id-3 div.sk-estimator input.sk-toggleable__control:checked~label.sk-toggleable__label {background-color: #d4ebff;}#sk-container-id-3 div.sk-label input.sk-toggleable__control:checked~label.sk-toggleable__label {background-color: #d4ebff;}#sk-container-id-3 input.sk-hidden--visually {border: 0;clip: rect(1px 1px 1px 1px);clip: rect(1px, 1px, 1px, 1px);height: 1px;margin: -1px;overflow: hidden;padding: 0;position: absolute;width: 1px;}#sk-container-id-3 div.sk-estimator {font-family: monospace;background-color: #f0f8ff;border: 1px dotted black;border-radius: 0.25em;box-sizing: border-box;margin-bottom: 0.5em;}#sk-container-id-3 div.sk-estimator:hover {background-color: #d4ebff;}#sk-container-id-3 div.sk-parallel-item::after {content: \"\";width: 100%;border-bottom: 1px solid gray;flex-grow: 1;}#sk-container-id-3 div.sk-label:hover label.sk-toggleable__label {background-color: #d4ebff;}#sk-container-id-3 div.sk-serial::before {content: \"\";position: absolute;border-left: 1px solid gray;box-sizing: border-box;top: 0;bottom: 0;left: 50%;z-index: 0;}#sk-container-id-3 div.sk-serial {display: flex;flex-direction: column;align-items: center;background-color: white;padding-right: 0.2em;padding-left: 0.2em;position: relative;}#sk-container-id-3 div.sk-item {position: relative;z-index: 1;}#sk-container-id-3 div.sk-parallel {display: flex;align-items: stretch;justify-content: center;background-color: white;position: relative;}#sk-container-id-3 div.sk-item::before, #sk-container-id-3 div.sk-parallel-item::before {content: \"\";position: absolute;border-left: 1px solid gray;box-sizing: border-box;top: 0;bottom: 0;left: 50%;z-index: -1;}#sk-container-id-3 div.sk-parallel-item {display: flex;flex-direction: column;z-index: 1;position: relative;background-color: white;}#sk-container-id-3 div.sk-parallel-item:first-child::after {align-self: flex-end;width: 50%;}#sk-container-id-3 div.sk-parallel-item:last-child::after {align-self: flex-start;width: 50%;}#sk-container-id-3 div.sk-parallel-item:only-child::after {width: 0;}#sk-container-id-3 div.sk-dashed-wrapped {border: 1px dashed gray;margin: 0 0.4em 0.5em 0.4em;box-sizing: border-box;padding-bottom: 0.4em;background-color: white;}#sk-container-id-3 div.sk-label label {font-family: monospace;font-weight: bold;display: inline-block;line-height: 1.2em;}#sk-container-id-3 div.sk-label-container {text-align: center;}#sk-container-id-3 div.sk-container {/* jupyter's `normalize.less` sets `[hidden] { display: none; }` but bootstrap.min.css set `[hidden] { display: none !important; }` so we also need the `!important` here to be able to override the default hidden behavior on the sphinx rendered scikit-learn.org. See: https://github.com/scikit-learn/scikit-learn/issues/21755 */display: inline-block !important;position: relative;}#sk-container-id-3 div.sk-text-repr-fallback {display: none;}</style><div id=\"sk-container-id-3\" class=\"sk-top-container\"><div class=\"sk-text-repr-fallback\"><pre>Pipeline(steps=[(&#x27;Scaler&#x27;, StandardScaler()), (&#x27;PCA&#x27;, PCA(n_components=2)),\n",
       "                (&#x27;Forest&#x27;,\n",
       "                 RandomForestRegressor(max_depth=5, n_estimators=50))])</pre><b>In a Jupyter environment, please rerun this cell to show the HTML representation or trust the notebook. <br />On GitHub, the HTML representation is unable to render, please try loading this page with nbviewer.org.</b></div><div class=\"sk-container\" hidden><div class=\"sk-item sk-dashed-wrapped\"><div class=\"sk-label-container\"><div class=\"sk-label sk-toggleable\"><input class=\"sk-toggleable__control sk-hidden--visually\" id=\"sk-estimator-id-9\" type=\"checkbox\" ><label for=\"sk-estimator-id-9\" class=\"sk-toggleable__label sk-toggleable__label-arrow\">Pipeline</label><div class=\"sk-toggleable__content\"><pre>Pipeline(steps=[(&#x27;Scaler&#x27;, StandardScaler()), (&#x27;PCA&#x27;, PCA(n_components=2)),\n",
       "                (&#x27;Forest&#x27;,\n",
       "                 RandomForestRegressor(max_depth=5, n_estimators=50))])</pre></div></div></div><div class=\"sk-serial\"><div class=\"sk-item\"><div class=\"sk-estimator sk-toggleable\"><input class=\"sk-toggleable__control sk-hidden--visually\" id=\"sk-estimator-id-10\" type=\"checkbox\" ><label for=\"sk-estimator-id-10\" class=\"sk-toggleable__label sk-toggleable__label-arrow\">StandardScaler</label><div class=\"sk-toggleable__content\"><pre>StandardScaler()</pre></div></div></div><div class=\"sk-item\"><div class=\"sk-estimator sk-toggleable\"><input class=\"sk-toggleable__control sk-hidden--visually\" id=\"sk-estimator-id-11\" type=\"checkbox\" ><label for=\"sk-estimator-id-11\" class=\"sk-toggleable__label sk-toggleable__label-arrow\">PCA</label><div class=\"sk-toggleable__content\"><pre>PCA(n_components=2)</pre></div></div></div><div class=\"sk-item\"><div class=\"sk-estimator sk-toggleable\"><input class=\"sk-toggleable__control sk-hidden--visually\" id=\"sk-estimator-id-12\" type=\"checkbox\" ><label for=\"sk-estimator-id-12\" class=\"sk-toggleable__label sk-toggleable__label-arrow\">RandomForestRegressor</label><div class=\"sk-toggleable__content\"><pre>RandomForestRegressor(max_depth=5, n_estimators=50)</pre></div></div></div></div></div></div></div>"
      ],
      "text/plain": [
       "Pipeline(steps=[('Scaler', StandardScaler()), ('PCA', PCA(n_components=2)),\n",
       "                ('Forest',\n",
       "                 RandomForestRegressor(max_depth=5, n_estimators=50))])"
      ]
     },
     "execution_count": 23,
     "metadata": {},
     "output_type": "execute_result"
    }
   ],
   "source": [
    "# Create Pipeline of StandardScaler -> PCA -> RandomForest\n",
    "\n",
    "from sklearn.pipeline import Pipeline\n",
    "\n",
    "scale_pca_pipe_forest_1 = Pipeline(steps=[('Scaler', StandardScaler()), \n",
    "                                 ('PCA', PCA(n_components=2)), \n",
    "                                 ('Forest', RandomForestRegressor(n_estimators=50, max_depth=5))])\n",
    "scale_pca_pipe_forest_1"
   ]
  },
  {
   "cell_type": "code",
   "execution_count": 24,
   "id": "8a426d74",
   "metadata": {},
   "outputs": [
    {
     "data": {
      "text/plain": [
       "80200.0415944795"
      ]
     },
     "execution_count": 24,
     "metadata": {},
     "output_type": "execute_result"
    }
   ],
   "source": [
    "# Get error of Normalization -> PCA -> Random Forest pipeline\n",
    "\n",
    "scale_pca_pipe_forest_1.fit(X_train_3, y_train)\n",
    "scale_pca_pipe_forest_test_predictions = scale_pca_pipe_forest_1.predict(X_test_3)\n",
    "\n",
    "mean_absolute_error(y_test, scale_pca_pipe_forest_test_predictions)"
   ]
  },
  {
   "cell_type": "code",
   "execution_count": 25,
   "id": "841ca7a2",
   "metadata": {},
   "outputs": [
    {
     "data": {
      "text/html": [
       "<style>#sk-container-id-4 {color: black;}#sk-container-id-4 pre{padding: 0;}#sk-container-id-4 div.sk-toggleable {background-color: white;}#sk-container-id-4 label.sk-toggleable__label {cursor: pointer;display: block;width: 100%;margin-bottom: 0;padding: 0.3em;box-sizing: border-box;text-align: center;}#sk-container-id-4 label.sk-toggleable__label-arrow:before {content: \"▸\";float: left;margin-right: 0.25em;color: #696969;}#sk-container-id-4 label.sk-toggleable__label-arrow:hover:before {color: black;}#sk-container-id-4 div.sk-estimator:hover label.sk-toggleable__label-arrow:before {color: black;}#sk-container-id-4 div.sk-toggleable__content {max-height: 0;max-width: 0;overflow: hidden;text-align: left;background-color: #f0f8ff;}#sk-container-id-4 div.sk-toggleable__content pre {margin: 0.2em;color: black;border-radius: 0.25em;background-color: #f0f8ff;}#sk-container-id-4 input.sk-toggleable__control:checked~div.sk-toggleable__content {max-height: 200px;max-width: 100%;overflow: auto;}#sk-container-id-4 input.sk-toggleable__control:checked~label.sk-toggleable__label-arrow:before {content: \"▾\";}#sk-container-id-4 div.sk-estimator input.sk-toggleable__control:checked~label.sk-toggleable__label {background-color: #d4ebff;}#sk-container-id-4 div.sk-label input.sk-toggleable__control:checked~label.sk-toggleable__label {background-color: #d4ebff;}#sk-container-id-4 input.sk-hidden--visually {border: 0;clip: rect(1px 1px 1px 1px);clip: rect(1px, 1px, 1px, 1px);height: 1px;margin: -1px;overflow: hidden;padding: 0;position: absolute;width: 1px;}#sk-container-id-4 div.sk-estimator {font-family: monospace;background-color: #f0f8ff;border: 1px dotted black;border-radius: 0.25em;box-sizing: border-box;margin-bottom: 0.5em;}#sk-container-id-4 div.sk-estimator:hover {background-color: #d4ebff;}#sk-container-id-4 div.sk-parallel-item::after {content: \"\";width: 100%;border-bottom: 1px solid gray;flex-grow: 1;}#sk-container-id-4 div.sk-label:hover label.sk-toggleable__label {background-color: #d4ebff;}#sk-container-id-4 div.sk-serial::before {content: \"\";position: absolute;border-left: 1px solid gray;box-sizing: border-box;top: 0;bottom: 0;left: 50%;z-index: 0;}#sk-container-id-4 div.sk-serial {display: flex;flex-direction: column;align-items: center;background-color: white;padding-right: 0.2em;padding-left: 0.2em;position: relative;}#sk-container-id-4 div.sk-item {position: relative;z-index: 1;}#sk-container-id-4 div.sk-parallel {display: flex;align-items: stretch;justify-content: center;background-color: white;position: relative;}#sk-container-id-4 div.sk-item::before, #sk-container-id-4 div.sk-parallel-item::before {content: \"\";position: absolute;border-left: 1px solid gray;box-sizing: border-box;top: 0;bottom: 0;left: 50%;z-index: -1;}#sk-container-id-4 div.sk-parallel-item {display: flex;flex-direction: column;z-index: 1;position: relative;background-color: white;}#sk-container-id-4 div.sk-parallel-item:first-child::after {align-self: flex-end;width: 50%;}#sk-container-id-4 div.sk-parallel-item:last-child::after {align-self: flex-start;width: 50%;}#sk-container-id-4 div.sk-parallel-item:only-child::after {width: 0;}#sk-container-id-4 div.sk-dashed-wrapped {border: 1px dashed gray;margin: 0 0.4em 0.5em 0.4em;box-sizing: border-box;padding-bottom: 0.4em;background-color: white;}#sk-container-id-4 div.sk-label label {font-family: monospace;font-weight: bold;display: inline-block;line-height: 1.2em;}#sk-container-id-4 div.sk-label-container {text-align: center;}#sk-container-id-4 div.sk-container {/* jupyter's `normalize.less` sets `[hidden] { display: none; }` but bootstrap.min.css set `[hidden] { display: none !important; }` so we also need the `!important` here to be able to override the default hidden behavior on the sphinx rendered scikit-learn.org. See: https://github.com/scikit-learn/scikit-learn/issues/21755 */display: inline-block !important;position: relative;}#sk-container-id-4 div.sk-text-repr-fallback {display: none;}</style><div id=\"sk-container-id-4\" class=\"sk-top-container\"><div class=\"sk-text-repr-fallback\"><pre>Pipeline(steps=[(&#x27;Scaler&#x27;, MinMaxScaler()), (&#x27;PCA&#x27;, PCA(n_components=2)),\n",
       "                (&#x27;Forest&#x27;,\n",
       "                 RandomForestRegressor(max_depth=5, n_estimators=50))])</pre><b>In a Jupyter environment, please rerun this cell to show the HTML representation or trust the notebook. <br />On GitHub, the HTML representation is unable to render, please try loading this page with nbviewer.org.</b></div><div class=\"sk-container\" hidden><div class=\"sk-item sk-dashed-wrapped\"><div class=\"sk-label-container\"><div class=\"sk-label sk-toggleable\"><input class=\"sk-toggleable__control sk-hidden--visually\" id=\"sk-estimator-id-13\" type=\"checkbox\" ><label for=\"sk-estimator-id-13\" class=\"sk-toggleable__label sk-toggleable__label-arrow\">Pipeline</label><div class=\"sk-toggleable__content\"><pre>Pipeline(steps=[(&#x27;Scaler&#x27;, MinMaxScaler()), (&#x27;PCA&#x27;, PCA(n_components=2)),\n",
       "                (&#x27;Forest&#x27;,\n",
       "                 RandomForestRegressor(max_depth=5, n_estimators=50))])</pre></div></div></div><div class=\"sk-serial\"><div class=\"sk-item\"><div class=\"sk-estimator sk-toggleable\"><input class=\"sk-toggleable__control sk-hidden--visually\" id=\"sk-estimator-id-14\" type=\"checkbox\" ><label for=\"sk-estimator-id-14\" class=\"sk-toggleable__label sk-toggleable__label-arrow\">MinMaxScaler</label><div class=\"sk-toggleable__content\"><pre>MinMaxScaler()</pre></div></div></div><div class=\"sk-item\"><div class=\"sk-estimator sk-toggleable\"><input class=\"sk-toggleable__control sk-hidden--visually\" id=\"sk-estimator-id-15\" type=\"checkbox\" ><label for=\"sk-estimator-id-15\" class=\"sk-toggleable__label sk-toggleable__label-arrow\">PCA</label><div class=\"sk-toggleable__content\"><pre>PCA(n_components=2)</pre></div></div></div><div class=\"sk-item\"><div class=\"sk-estimator sk-toggleable\"><input class=\"sk-toggleable__control sk-hidden--visually\" id=\"sk-estimator-id-16\" type=\"checkbox\" ><label for=\"sk-estimator-id-16\" class=\"sk-toggleable__label sk-toggleable__label-arrow\">RandomForestRegressor</label><div class=\"sk-toggleable__content\"><pre>RandomForestRegressor(max_depth=5, n_estimators=50)</pre></div></div></div></div></div></div></div>"
      ],
      "text/plain": [
       "Pipeline(steps=[('Scaler', MinMaxScaler()), ('PCA', PCA(n_components=2)),\n",
       "                ('Forest',\n",
       "                 RandomForestRegressor(max_depth=5, n_estimators=50))])"
      ]
     },
     "execution_count": 25,
     "metadata": {},
     "output_type": "execute_result"
    }
   ],
   "source": [
    "# Create Pipeline of StandardScaler -> PCA -> RandomForest\n",
    "\n",
    "from sklearn.pipeline import Pipeline\n",
    "\n",
    "scale_pca_pipe_forest_2 = Pipeline(steps=[('Scaler', MinMaxScaler()), \n",
    "                                 ('PCA', PCA(n_components=2)), \n",
    "                                 ('Forest', RandomForestRegressor(n_estimators=50, max_depth=5))])\n",
    "scale_pca_pipe_forest_2"
   ]
  },
  {
   "cell_type": "code",
   "execution_count": 26,
   "id": "e07c24e7",
   "metadata": {},
   "outputs": [
    {
     "data": {
      "text/plain": [
       "80104.98745184328"
      ]
     },
     "execution_count": 26,
     "metadata": {},
     "output_type": "execute_result"
    }
   ],
   "source": [
    "# Get error of Normalization -> PCA -> Random Forest pipeline\n",
    "\n",
    "scale_pca_pipe_forest_2.fit(X_train_3, y_train)\n",
    "scale_pca_pipe_forest_test_predictions = scale_pca_pipe_forest_2.predict(X_test_3)\n",
    "\n",
    "mean_absolute_error(y_test, scale_pca_pipe_forest_test_predictions)"
   ]
  },
  {
   "cell_type": "markdown",
   "id": "236e8928",
   "metadata": {},
   "source": [
    "## 3. Categorical Encoding (Dummy / One-Hot)"
   ]
  },
  {
   "cell_type": "code",
   "execution_count": 27,
   "id": "539b6da2",
   "metadata": {},
   "outputs": [],
   "source": [
    "#Dummies is for the pandas version\n",
    "#one-hot is for the numpy version"
   ]
  },
  {
   "cell_type": "code",
   "execution_count": 28,
   "id": "7b4f89e4",
   "metadata": {},
   "outputs": [],
   "source": [
    "#we might not use these dummies for everything for example \"words\" which has \"embeddings\" to do the same process"
   ]
  },
  {
   "cell_type": "code",
   "execution_count": 22,
   "id": "6e22a664",
   "metadata": {},
   "outputs": [
    {
     "data": {
      "text/html": [
       "<div>\n",
       "<style scoped>\n",
       "    .dataframe tbody tr th:only-of-type {\n",
       "        vertical-align: middle;\n",
       "    }\n",
       "\n",
       "    .dataframe tbody tr th {\n",
       "        vertical-align: top;\n",
       "    }\n",
       "\n",
       "    .dataframe thead th {\n",
       "        text-align: right;\n",
       "    }\n",
       "</style>\n",
       "<table border=\"1\" class=\"dataframe\">\n",
       "  <thead>\n",
       "    <tr style=\"text-align: right;\">\n",
       "      <th></th>\n",
       "      <th>&lt;1H OCEAN</th>\n",
       "      <th>INLAND</th>\n",
       "      <th>ISLAND</th>\n",
       "      <th>NEAR BAY</th>\n",
       "      <th>NEAR OCEAN</th>\n",
       "    </tr>\n",
       "  </thead>\n",
       "  <tbody>\n",
       "    <tr>\n",
       "      <th>0</th>\n",
       "      <td>1</td>\n",
       "      <td>0</td>\n",
       "      <td>0</td>\n",
       "      <td>0</td>\n",
       "      <td>0</td>\n",
       "    </tr>\n",
       "    <tr>\n",
       "      <th>1</th>\n",
       "      <td>1</td>\n",
       "      <td>0</td>\n",
       "      <td>0</td>\n",
       "      <td>0</td>\n",
       "      <td>0</td>\n",
       "    </tr>\n",
       "    <tr>\n",
       "      <th>2</th>\n",
       "      <td>0</td>\n",
       "      <td>1</td>\n",
       "      <td>0</td>\n",
       "      <td>0</td>\n",
       "      <td>0</td>\n",
       "    </tr>\n",
       "    <tr>\n",
       "      <th>3</th>\n",
       "      <td>0</td>\n",
       "      <td>0</td>\n",
       "      <td>0</td>\n",
       "      <td>0</td>\n",
       "      <td>1</td>\n",
       "    </tr>\n",
       "    <tr>\n",
       "      <th>4</th>\n",
       "      <td>0</td>\n",
       "      <td>1</td>\n",
       "      <td>0</td>\n",
       "      <td>0</td>\n",
       "      <td>0</td>\n",
       "    </tr>\n",
       "  </tbody>\n",
       "</table>\n",
       "</div>"
      ],
      "text/plain": [
       "   <1H OCEAN  INLAND  ISLAND  NEAR BAY  NEAR OCEAN\n",
       "0          1       0       0         0           0\n",
       "1          1       0       0         0           0\n",
       "2          0       1       0         0           0\n",
       "3          0       0       0         0           1\n",
       "4          0       1       0         0           0"
      ]
     },
     "execution_count": 22,
     "metadata": {},
     "output_type": "execute_result"
    }
   ],
   "source": [
    "# Get dummy variables (one-hot encoding) for the training set\n",
    "\n",
    "train_dummies = pd.get_dummies(train_df['ocean_proximity'])\n",
    "train_dummies.head()"
   ]
  },
  {
   "cell_type": "code",
   "execution_count": 29,
   "id": "6876160f",
   "metadata": {},
   "outputs": [
    {
     "data": {
      "text/html": [
       "<div>\n",
       "<style scoped>\n",
       "    .dataframe tbody tr th:only-of-type {\n",
       "        vertical-align: middle;\n",
       "    }\n",
       "\n",
       "    .dataframe tbody tr th {\n",
       "        vertical-align: top;\n",
       "    }\n",
       "\n",
       "    .dataframe thead th {\n",
       "        text-align: right;\n",
       "    }\n",
       "</style>\n",
       "<table border=\"1\" class=\"dataframe\">\n",
       "  <thead>\n",
       "    <tr style=\"text-align: right;\">\n",
       "      <th></th>\n",
       "      <th>longitude</th>\n",
       "      <th>latitude</th>\n",
       "      <th>housing_median_age</th>\n",
       "      <th>total_rooms</th>\n",
       "      <th>total_bedrooms</th>\n",
       "      <th>population</th>\n",
       "      <th>households</th>\n",
       "      <th>median_income</th>\n",
       "      <th>median_house_value</th>\n",
       "      <th>ocean_proximity</th>\n",
       "      <th>&lt;1H OCEAN</th>\n",
       "      <th>INLAND</th>\n",
       "      <th>ISLAND</th>\n",
       "      <th>NEAR BAY</th>\n",
       "      <th>NEAR OCEAN</th>\n",
       "    </tr>\n",
       "  </thead>\n",
       "  <tbody>\n",
       "    <tr>\n",
       "      <th>0</th>\n",
       "      <td>-118.46</td>\n",
       "      <td>34.07</td>\n",
       "      <td>42.0</td>\n",
       "      <td>2564.0</td>\n",
       "      <td>460.0</td>\n",
       "      <td>913.0</td>\n",
       "      <td>414.0</td>\n",
       "      <td>9.2225</td>\n",
       "      <td>500001.0</td>\n",
       "      <td>&lt;1H OCEAN</td>\n",
       "      <td>1</td>\n",
       "      <td>0</td>\n",
       "      <td>0</td>\n",
       "      <td>0</td>\n",
       "      <td>0</td>\n",
       "    </tr>\n",
       "    <tr>\n",
       "      <th>1</th>\n",
       "      <td>-121.81</td>\n",
       "      <td>37.27</td>\n",
       "      <td>22.0</td>\n",
       "      <td>2996.0</td>\n",
       "      <td>695.0</td>\n",
       "      <td>2169.0</td>\n",
       "      <td>607.0</td>\n",
       "      <td>4.3438</td>\n",
       "      <td>209700.0</td>\n",
       "      <td>&lt;1H OCEAN</td>\n",
       "      <td>1</td>\n",
       "      <td>0</td>\n",
       "      <td>0</td>\n",
       "      <td>0</td>\n",
       "      <td>0</td>\n",
       "    </tr>\n",
       "    <tr>\n",
       "      <th>2</th>\n",
       "      <td>-122.33</td>\n",
       "      <td>40.48</td>\n",
       "      <td>26.0</td>\n",
       "      <td>695.0</td>\n",
       "      <td>126.0</td>\n",
       "      <td>319.0</td>\n",
       "      <td>124.0</td>\n",
       "      <td>3.2788</td>\n",
       "      <td>101600.0</td>\n",
       "      <td>INLAND</td>\n",
       "      <td>0</td>\n",
       "      <td>1</td>\n",
       "      <td>0</td>\n",
       "      <td>0</td>\n",
       "      <td>0</td>\n",
       "    </tr>\n",
       "    <tr>\n",
       "      <th>3</th>\n",
       "      <td>-117.62</td>\n",
       "      <td>33.42</td>\n",
       "      <td>27.0</td>\n",
       "      <td>1444.0</td>\n",
       "      <td>412.0</td>\n",
       "      <td>597.0</td>\n",
       "      <td>311.0</td>\n",
       "      <td>3.1395</td>\n",
       "      <td>310000.0</td>\n",
       "      <td>NEAR OCEAN</td>\n",
       "      <td>0</td>\n",
       "      <td>0</td>\n",
       "      <td>0</td>\n",
       "      <td>0</td>\n",
       "      <td>1</td>\n",
       "    </tr>\n",
       "    <tr>\n",
       "      <th>4</th>\n",
       "      <td>-122.36</td>\n",
       "      <td>38.41</td>\n",
       "      <td>18.0</td>\n",
       "      <td>1808.0</td>\n",
       "      <td>400.0</td>\n",
       "      <td>968.0</td>\n",
       "      <td>370.0</td>\n",
       "      <td>3.7067</td>\n",
       "      <td>175000.0</td>\n",
       "      <td>INLAND</td>\n",
       "      <td>0</td>\n",
       "      <td>1</td>\n",
       "      <td>0</td>\n",
       "      <td>0</td>\n",
       "      <td>0</td>\n",
       "    </tr>\n",
       "  </tbody>\n",
       "</table>\n",
       "</div>"
      ],
      "text/plain": [
       "   longitude  latitude  housing_median_age  total_rooms  total_bedrooms  \\\n",
       "0    -118.46     34.07                42.0       2564.0           460.0   \n",
       "1    -121.81     37.27                22.0       2996.0           695.0   \n",
       "2    -122.33     40.48                26.0        695.0           126.0   \n",
       "3    -117.62     33.42                27.0       1444.0           412.0   \n",
       "4    -122.36     38.41                18.0       1808.0           400.0   \n",
       "\n",
       "   population  households  median_income  median_house_value ocean_proximity  \\\n",
       "0       913.0       414.0         9.2225            500001.0       <1H OCEAN   \n",
       "1      2169.0       607.0         4.3438            209700.0       <1H OCEAN   \n",
       "2       319.0       124.0         3.2788            101600.0          INLAND   \n",
       "3       597.0       311.0         3.1395            310000.0      NEAR OCEAN   \n",
       "4       968.0       370.0         3.7067            175000.0          INLAND   \n",
       "\n",
       "   <1H OCEAN  INLAND  ISLAND  NEAR BAY  NEAR OCEAN  \n",
       "0          1       0       0         0           0  \n",
       "1          1       0       0         0           0  \n",
       "2          0       1       0         0           0  \n",
       "3          0       0       0         0           1  \n",
       "4          0       1       0         0           0  "
      ]
     },
     "execution_count": 29,
     "metadata": {},
     "output_type": "execute_result"
    }
   ],
   "source": [
    "# Concatenate dummy variables to the training DataFrame\n",
    "\n",
    "train_df = pd.concat([train_df, train_dummies], axis=1)\n",
    "train_df.head()"
   ]
  },
  {
   "cell_type": "code",
   "execution_count": 30,
   "id": "76e889b5",
   "metadata": {},
   "outputs": [
    {
     "data": {
      "text/plain": [
       "<1H OCEAN     7241\n",
       "INLAND        5173\n",
       "NEAR OCEAN    2119\n",
       "NEAR BAY      1808\n",
       "ISLAND           5\n",
       "Name: ocean_proximity, dtype: int64"
      ]
     },
     "execution_count": 30,
     "metadata": {},
     "output_type": "execute_result"
    }
   ],
   "source": [
    "# Observe frequency of categories\n",
    "\n",
    "train_df['ocean_proximity'].value_counts()"
   ]
  },
  {
   "cell_type": "code",
   "execution_count": 31,
   "id": "165e25c6",
   "metadata": {},
   "outputs": [
    {
     "data": {
      "text/html": [
       "<div>\n",
       "<style scoped>\n",
       "    .dataframe tbody tr th:only-of-type {\n",
       "        vertical-align: middle;\n",
       "    }\n",
       "\n",
       "    .dataframe tbody tr th {\n",
       "        vertical-align: top;\n",
       "    }\n",
       "\n",
       "    .dataframe thead th {\n",
       "        text-align: right;\n",
       "    }\n",
       "</style>\n",
       "<table border=\"1\" class=\"dataframe\">\n",
       "  <thead>\n",
       "    <tr style=\"text-align: right;\">\n",
       "      <th></th>\n",
       "      <th>longitude</th>\n",
       "      <th>latitude</th>\n",
       "      <th>housing_median_age</th>\n",
       "      <th>total_rooms</th>\n",
       "      <th>total_bedrooms</th>\n",
       "      <th>population</th>\n",
       "      <th>households</th>\n",
       "      <th>median_income</th>\n",
       "      <th>median_house_value</th>\n",
       "      <th>ocean_proximity</th>\n",
       "      <th>&lt;1H OCEAN</th>\n",
       "      <th>INLAND</th>\n",
       "      <th>NEAR BAY</th>\n",
       "      <th>NEAR OCEAN</th>\n",
       "    </tr>\n",
       "  </thead>\n",
       "  <tbody>\n",
       "    <tr>\n",
       "      <th>0</th>\n",
       "      <td>-118.46</td>\n",
       "      <td>34.07</td>\n",
       "      <td>42.0</td>\n",
       "      <td>2564.0</td>\n",
       "      <td>460.0</td>\n",
       "      <td>913.0</td>\n",
       "      <td>414.0</td>\n",
       "      <td>9.2225</td>\n",
       "      <td>500001.0</td>\n",
       "      <td>&lt;1H OCEAN</td>\n",
       "      <td>1</td>\n",
       "      <td>0</td>\n",
       "      <td>0</td>\n",
       "      <td>0</td>\n",
       "    </tr>\n",
       "    <tr>\n",
       "      <th>1</th>\n",
       "      <td>-121.81</td>\n",
       "      <td>37.27</td>\n",
       "      <td>22.0</td>\n",
       "      <td>2996.0</td>\n",
       "      <td>695.0</td>\n",
       "      <td>2169.0</td>\n",
       "      <td>607.0</td>\n",
       "      <td>4.3438</td>\n",
       "      <td>209700.0</td>\n",
       "      <td>&lt;1H OCEAN</td>\n",
       "      <td>1</td>\n",
       "      <td>0</td>\n",
       "      <td>0</td>\n",
       "      <td>0</td>\n",
       "    </tr>\n",
       "    <tr>\n",
       "      <th>2</th>\n",
       "      <td>-122.33</td>\n",
       "      <td>40.48</td>\n",
       "      <td>26.0</td>\n",
       "      <td>695.0</td>\n",
       "      <td>126.0</td>\n",
       "      <td>319.0</td>\n",
       "      <td>124.0</td>\n",
       "      <td>3.2788</td>\n",
       "      <td>101600.0</td>\n",
       "      <td>INLAND</td>\n",
       "      <td>0</td>\n",
       "      <td>1</td>\n",
       "      <td>0</td>\n",
       "      <td>0</td>\n",
       "    </tr>\n",
       "    <tr>\n",
       "      <th>3</th>\n",
       "      <td>-117.62</td>\n",
       "      <td>33.42</td>\n",
       "      <td>27.0</td>\n",
       "      <td>1444.0</td>\n",
       "      <td>412.0</td>\n",
       "      <td>597.0</td>\n",
       "      <td>311.0</td>\n",
       "      <td>3.1395</td>\n",
       "      <td>310000.0</td>\n",
       "      <td>NEAR OCEAN</td>\n",
       "      <td>0</td>\n",
       "      <td>0</td>\n",
       "      <td>0</td>\n",
       "      <td>1</td>\n",
       "    </tr>\n",
       "    <tr>\n",
       "      <th>4</th>\n",
       "      <td>-122.36</td>\n",
       "      <td>38.41</td>\n",
       "      <td>18.0</td>\n",
       "      <td>1808.0</td>\n",
       "      <td>400.0</td>\n",
       "      <td>968.0</td>\n",
       "      <td>370.0</td>\n",
       "      <td>3.7067</td>\n",
       "      <td>175000.0</td>\n",
       "      <td>INLAND</td>\n",
       "      <td>0</td>\n",
       "      <td>1</td>\n",
       "      <td>0</td>\n",
       "      <td>0</td>\n",
       "    </tr>\n",
       "  </tbody>\n",
       "</table>\n",
       "</div>"
      ],
      "text/plain": [
       "   longitude  latitude  housing_median_age  total_rooms  total_bedrooms  \\\n",
       "0    -118.46     34.07                42.0       2564.0           460.0   \n",
       "1    -121.81     37.27                22.0       2996.0           695.0   \n",
       "2    -122.33     40.48                26.0        695.0           126.0   \n",
       "3    -117.62     33.42                27.0       1444.0           412.0   \n",
       "4    -122.36     38.41                18.0       1808.0           400.0   \n",
       "\n",
       "   population  households  median_income  median_house_value ocean_proximity  \\\n",
       "0       913.0       414.0         9.2225            500001.0       <1H OCEAN   \n",
       "1      2169.0       607.0         4.3438            209700.0       <1H OCEAN   \n",
       "2       319.0       124.0         3.2788            101600.0          INLAND   \n",
       "3       597.0       311.0         3.1395            310000.0      NEAR OCEAN   \n",
       "4       968.0       370.0         3.7067            175000.0          INLAND   \n",
       "\n",
       "   <1H OCEAN  INLAND  NEAR BAY  NEAR OCEAN  \n",
       "0          1       0         0           0  \n",
       "1          1       0         0           0  \n",
       "2          0       1         0           0  \n",
       "3          0       0         0           1  \n",
       "4          0       1         0           0  "
      ]
     },
     "execution_count": 31,
     "metadata": {},
     "output_type": "execute_result"
    }
   ],
   "source": [
    "# Drop the ISLAND dummy since there are very few of them\n",
    "\n",
    "train_df.drop('ISLAND', inplace=True, axis=1)\n",
    "train_df.head()"
   ]
  },
  {
   "cell_type": "code",
   "execution_count": 32,
   "id": "af9391fa",
   "metadata": {},
   "outputs": [
    {
     "data": {
      "text/html": [
       "<div>\n",
       "<style scoped>\n",
       "    .dataframe tbody tr th:only-of-type {\n",
       "        vertical-align: middle;\n",
       "    }\n",
       "\n",
       "    .dataframe tbody tr th {\n",
       "        vertical-align: top;\n",
       "    }\n",
       "\n",
       "    .dataframe thead th {\n",
       "        text-align: right;\n",
       "    }\n",
       "</style>\n",
       "<table border=\"1\" class=\"dataframe\">\n",
       "  <thead>\n",
       "    <tr style=\"text-align: right;\">\n",
       "      <th></th>\n",
       "      <th>&lt;1H OCEAN</th>\n",
       "      <th>INLAND</th>\n",
       "      <th>NEAR BAY</th>\n",
       "      <th>NEAR OCEAN</th>\n",
       "    </tr>\n",
       "  </thead>\n",
       "  <tbody>\n",
       "    <tr>\n",
       "      <th>0</th>\n",
       "      <td>0</td>\n",
       "      <td>1</td>\n",
       "      <td>0</td>\n",
       "      <td>0</td>\n",
       "    </tr>\n",
       "    <tr>\n",
       "      <th>1</th>\n",
       "      <td>1</td>\n",
       "      <td>0</td>\n",
       "      <td>0</td>\n",
       "      <td>0</td>\n",
       "    </tr>\n",
       "    <tr>\n",
       "      <th>2</th>\n",
       "      <td>0</td>\n",
       "      <td>0</td>\n",
       "      <td>1</td>\n",
       "      <td>0</td>\n",
       "    </tr>\n",
       "    <tr>\n",
       "      <th>3</th>\n",
       "      <td>0</td>\n",
       "      <td>0</td>\n",
       "      <td>1</td>\n",
       "      <td>0</td>\n",
       "    </tr>\n",
       "    <tr>\n",
       "      <th>4</th>\n",
       "      <td>0</td>\n",
       "      <td>1</td>\n",
       "      <td>0</td>\n",
       "      <td>0</td>\n",
       "    </tr>\n",
       "  </tbody>\n",
       "</table>\n",
       "</div>"
      ],
      "text/plain": [
       "   <1H OCEAN  INLAND  NEAR BAY  NEAR OCEAN\n",
       "0          0       1         0           0\n",
       "1          1       0         0           0\n",
       "2          0       0         1           0\n",
       "3          0       0         1           0\n",
       "4          0       1         0           0"
      ]
     },
     "execution_count": 32,
     "metadata": {},
     "output_type": "execute_result"
    }
   ],
   "source": [
    "# Get dummy variables (one-hot encoding) for the test set\n",
    "\n",
    "test_dummies = pd.get_dummies(test_df['ocean_proximity'])\n",
    "test_dummies.head()"
   ]
  },
  {
   "cell_type": "code",
   "execution_count": 34,
   "id": "a06c0a58",
   "metadata": {},
   "outputs": [
    {
     "data": {
      "text/html": [
       "<div>\n",
       "<style scoped>\n",
       "    .dataframe tbody tr th:only-of-type {\n",
       "        vertical-align: middle;\n",
       "    }\n",
       "\n",
       "    .dataframe tbody tr th {\n",
       "        vertical-align: top;\n",
       "    }\n",
       "\n",
       "    .dataframe thead th {\n",
       "        text-align: right;\n",
       "    }\n",
       "</style>\n",
       "<table border=\"1\" class=\"dataframe\">\n",
       "  <thead>\n",
       "    <tr style=\"text-align: right;\">\n",
       "      <th></th>\n",
       "      <th>longitude</th>\n",
       "      <th>latitude</th>\n",
       "      <th>housing_median_age</th>\n",
       "      <th>total_rooms</th>\n",
       "      <th>total_bedrooms</th>\n",
       "      <th>population</th>\n",
       "      <th>households</th>\n",
       "      <th>median_income</th>\n",
       "      <th>median_house_value</th>\n",
       "      <th>ocean_proximity</th>\n",
       "      <th>&lt;1H OCEAN</th>\n",
       "      <th>INLAND</th>\n",
       "      <th>NEAR BAY</th>\n",
       "      <th>NEAR OCEAN</th>\n",
       "      <th>&lt;1H OCEAN</th>\n",
       "      <th>INLAND</th>\n",
       "      <th>NEAR BAY</th>\n",
       "      <th>NEAR OCEAN</th>\n",
       "    </tr>\n",
       "  </thead>\n",
       "  <tbody>\n",
       "    <tr>\n",
       "      <th>0</th>\n",
       "      <td>-121.58</td>\n",
       "      <td>39.16</td>\n",
       "      <td>33.0</td>\n",
       "      <td>1897.0</td>\n",
       "      <td>378.0</td>\n",
       "      <td>888.0</td>\n",
       "      <td>385.0</td>\n",
       "      <td>2.1111</td>\n",
       "      <td>68700.0</td>\n",
       "      <td>INLAND</td>\n",
       "      <td>0</td>\n",
       "      <td>1</td>\n",
       "      <td>0</td>\n",
       "      <td>0</td>\n",
       "      <td>0</td>\n",
       "      <td>1</td>\n",
       "      <td>0</td>\n",
       "      <td>0</td>\n",
       "    </tr>\n",
       "    <tr>\n",
       "      <th>1</th>\n",
       "      <td>-118.12</td>\n",
       "      <td>34.14</td>\n",
       "      <td>52.0</td>\n",
       "      <td>2337.0</td>\n",
       "      <td>352.0</td>\n",
       "      <td>981.0</td>\n",
       "      <td>328.0</td>\n",
       "      <td>5.8692</td>\n",
       "      <td>490400.0</td>\n",
       "      <td>&lt;1H OCEAN</td>\n",
       "      <td>1</td>\n",
       "      <td>0</td>\n",
       "      <td>0</td>\n",
       "      <td>0</td>\n",
       "      <td>1</td>\n",
       "      <td>0</td>\n",
       "      <td>0</td>\n",
       "      <td>0</td>\n",
       "    </tr>\n",
       "    <tr>\n",
       "      <th>2</th>\n",
       "      <td>-122.23</td>\n",
       "      <td>37.76</td>\n",
       "      <td>52.0</td>\n",
       "      <td>1705.0</td>\n",
       "      <td>246.0</td>\n",
       "      <td>658.0</td>\n",
       "      <td>253.0</td>\n",
       "      <td>5.7500</td>\n",
       "      <td>306300.0</td>\n",
       "      <td>NEAR BAY</td>\n",
       "      <td>0</td>\n",
       "      <td>0</td>\n",
       "      <td>1</td>\n",
       "      <td>0</td>\n",
       "      <td>0</td>\n",
       "      <td>0</td>\n",
       "      <td>1</td>\n",
       "      <td>0</td>\n",
       "    </tr>\n",
       "    <tr>\n",
       "      <th>3</th>\n",
       "      <td>-122.19</td>\n",
       "      <td>37.74</td>\n",
       "      <td>36.0</td>\n",
       "      <td>847.0</td>\n",
       "      <td>212.0</td>\n",
       "      <td>567.0</td>\n",
       "      <td>159.0</td>\n",
       "      <td>1.1765</td>\n",
       "      <td>87100.0</td>\n",
       "      <td>NEAR BAY</td>\n",
       "      <td>0</td>\n",
       "      <td>0</td>\n",
       "      <td>1</td>\n",
       "      <td>0</td>\n",
       "      <td>0</td>\n",
       "      <td>0</td>\n",
       "      <td>1</td>\n",
       "      <td>0</td>\n",
       "    </tr>\n",
       "    <tr>\n",
       "      <th>4</th>\n",
       "      <td>-121.23</td>\n",
       "      <td>37.96</td>\n",
       "      <td>44.0</td>\n",
       "      <td>2204.0</td>\n",
       "      <td>473.0</td>\n",
       "      <td>1277.0</td>\n",
       "      <td>435.0</td>\n",
       "      <td>1.5539</td>\n",
       "      <td>59200.0</td>\n",
       "      <td>INLAND</td>\n",
       "      <td>0</td>\n",
       "      <td>1</td>\n",
       "      <td>0</td>\n",
       "      <td>0</td>\n",
       "      <td>0</td>\n",
       "      <td>1</td>\n",
       "      <td>0</td>\n",
       "      <td>0</td>\n",
       "    </tr>\n",
       "  </tbody>\n",
       "</table>\n",
       "</div>"
      ],
      "text/plain": [
       "   longitude  latitude  housing_median_age  total_rooms  total_bedrooms  \\\n",
       "0    -121.58     39.16                33.0       1897.0           378.0   \n",
       "1    -118.12     34.14                52.0       2337.0           352.0   \n",
       "2    -122.23     37.76                52.0       1705.0           246.0   \n",
       "3    -122.19     37.74                36.0        847.0           212.0   \n",
       "4    -121.23     37.96                44.0       2204.0           473.0   \n",
       "\n",
       "   population  households  median_income  median_house_value ocean_proximity  \\\n",
       "0       888.0       385.0         2.1111             68700.0          INLAND   \n",
       "1       981.0       328.0         5.8692            490400.0       <1H OCEAN   \n",
       "2       658.0       253.0         5.7500            306300.0        NEAR BAY   \n",
       "3       567.0       159.0         1.1765             87100.0        NEAR BAY   \n",
       "4      1277.0       435.0         1.5539             59200.0          INLAND   \n",
       "\n",
       "   <1H OCEAN  INLAND  NEAR BAY  NEAR OCEAN  <1H OCEAN  INLAND  NEAR BAY  \\\n",
       "0          0       1         0           0          0       1         0   \n",
       "1          1       0         0           0          1       0         0   \n",
       "2          0       0         1           0          0       0         1   \n",
       "3          0       0         1           0          0       0         1   \n",
       "4          0       1         0           0          0       1         0   \n",
       "\n",
       "   NEAR OCEAN  \n",
       "0           0  \n",
       "1           0  \n",
       "2           0  \n",
       "3           0  \n",
       "4           0  "
      ]
     },
     "execution_count": 34,
     "metadata": {},
     "output_type": "execute_result"
    }
   ],
   "source": [
    "# Append the dummies and drop ISLAND on the test DataFrame\n",
    "\n",
    "test_df = pd.concat([test_df, test_dummies], axis=1)\n",
    "#test_df.drop('ISLAND', inplace=True, axis=1)\n",
    "test_df.head()"
   ]
  },
  {
   "cell_type": "code",
   "execution_count": 36,
   "id": "4e74781e",
   "metadata": {},
   "outputs": [
    {
     "data": {
      "text/plain": [
       "(16346, 4)"
      ]
     },
     "execution_count": 36,
     "metadata": {},
     "output_type": "execute_result"
    }
   ],
   "source": [
    "# Make X_train_dummies using only dummies\n",
    "#making a model based on those 4 columns only the last four which are based on classification of ccategories\n",
    "X_train_dummies = train_df.to_numpy()[:, -4:]\n",
    "X_train_dummies.shape"
   ]
  },
  {
   "cell_type": "code",
   "execution_count": 37,
   "id": "ac393294",
   "metadata": {},
   "outputs": [
    {
     "data": {
      "text/plain": [
       "(4087, 4)"
      ]
     },
     "execution_count": 37,
     "metadata": {},
     "output_type": "execute_result"
    }
   ],
   "source": [
    "# Make X_test_dummies using only dummies\n",
    "\n",
    "X_test_dummies = test_df.to_numpy()[:, -4:]\n",
    "X_test_dummies.shape"
   ]
  },
  {
   "cell_type": "code",
   "execution_count": 38,
   "id": "f1a23d32",
   "metadata": {},
   "outputs": [
    {
     "data": {
      "text/plain": [
       "76248.25971914172"
      ]
     },
     "execution_count": 38,
     "metadata": {},
     "output_type": "execute_result"
    }
   ],
   "source": [
    "# Check error of linear regression model using only dummies\n",
    "\n",
    "from sklearn.linear_model import LinearRegression\n",
    "\n",
    "linear_dummy = LinearRegression().fit(X_train_dummies, y_train)\n",
    "linear_dummy_test_predictions = linear_dummy.predict(X_test_dummies)\n",
    "mean_absolute_error(y_test, linear_dummy_test_predictions)"
   ]
  },
  {
   "cell_type": "markdown",
   "id": "668157c6",
   "metadata": {},
   "source": [
    "## 4. Binning (Grouping, Aggregating)"
   ]
  },
  {
   "cell_type": "code",
   "execution_count": 39,
   "id": "d2f8a731",
   "metadata": {},
   "outputs": [
    {
     "data": {
      "text/plain": [
       "<Axes: >"
      ]
     },
     "execution_count": 39,
     "metadata": {},
     "output_type": "execute_result"
    },
    {
     "data": {
      "image/png": "[encoded data removed]",
      "text/plain": [
       "<Figure size 640x480 with 1 Axes>"
      ]
     },
     "metadata": {},
     "output_type": "display_data"
    }
   ],
   "source": [
    "train_df['housing_median_age'].hist()"
   ]
  },
  {
   "cell_type": "code",
   "execution_count": 40,
   "id": "f9cca089",
   "metadata": {},
   "outputs": [
    {
     "data": {
      "text/html": [
       "<div>\n",
       "<style scoped>\n",
       "    .dataframe tbody tr th:only-of-type {\n",
       "        vertical-align: middle;\n",
       "    }\n",
       "\n",
       "    .dataframe tbody tr th {\n",
       "        vertical-align: top;\n",
       "    }\n",
       "\n",
       "    .dataframe thead th {\n",
       "        text-align: right;\n",
       "    }\n",
       "</style>\n",
       "<table border=\"1\" class=\"dataframe\">\n",
       "  <thead>\n",
       "    <tr style=\"text-align: right;\">\n",
       "      <th></th>\n",
       "      <th>longitude</th>\n",
       "      <th>latitude</th>\n",
       "      <th>housing_median_age</th>\n",
       "      <th>total_rooms</th>\n",
       "      <th>total_bedrooms</th>\n",
       "      <th>population</th>\n",
       "      <th>households</th>\n",
       "      <th>median_income</th>\n",
       "      <th>median_house_value</th>\n",
       "      <th>ocean_proximity</th>\n",
       "      <th>&lt;1H OCEAN</th>\n",
       "      <th>INLAND</th>\n",
       "      <th>NEAR BAY</th>\n",
       "      <th>NEAR OCEAN</th>\n",
       "      <th>median_age_less_than_30</th>\n",
       "    </tr>\n",
       "  </thead>\n",
       "  <tbody>\n",
       "    <tr>\n",
       "      <th>0</th>\n",
       "      <td>-118.46</td>\n",
       "      <td>34.07</td>\n",
       "      <td>42.0</td>\n",
       "      <td>2564.0</td>\n",
       "      <td>460.0</td>\n",
       "      <td>913.0</td>\n",
       "      <td>414.0</td>\n",
       "      <td>9.2225</td>\n",
       "      <td>500001.0</td>\n",
       "      <td>&lt;1H OCEAN</td>\n",
       "      <td>1</td>\n",
       "      <td>0</td>\n",
       "      <td>0</td>\n",
       "      <td>0</td>\n",
       "      <td>0</td>\n",
       "    </tr>\n",
       "    <tr>\n",
       "      <th>1</th>\n",
       "      <td>-121.81</td>\n",
       "      <td>37.27</td>\n",
       "      <td>22.0</td>\n",
       "      <td>2996.0</td>\n",
       "      <td>695.0</td>\n",
       "      <td>2169.0</td>\n",
       "      <td>607.0</td>\n",
       "      <td>4.3438</td>\n",
       "      <td>209700.0</td>\n",
       "      <td>&lt;1H OCEAN</td>\n",
       "      <td>1</td>\n",
       "      <td>0</td>\n",
       "      <td>0</td>\n",
       "      <td>0</td>\n",
       "      <td>1</td>\n",
       "    </tr>\n",
       "    <tr>\n",
       "      <th>2</th>\n",
       "      <td>-122.33</td>\n",
       "      <td>40.48</td>\n",
       "      <td>26.0</td>\n",
       "      <td>695.0</td>\n",
       "      <td>126.0</td>\n",
       "      <td>319.0</td>\n",
       "      <td>124.0</td>\n",
       "      <td>3.2788</td>\n",
       "      <td>101600.0</td>\n",
       "      <td>INLAND</td>\n",
       "      <td>0</td>\n",
       "      <td>1</td>\n",
       "      <td>0</td>\n",
       "      <td>0</td>\n",
       "      <td>1</td>\n",
       "    </tr>\n",
       "    <tr>\n",
       "      <th>3</th>\n",
       "      <td>-117.62</td>\n",
       "      <td>33.42</td>\n",
       "      <td>27.0</td>\n",
       "      <td>1444.0</td>\n",
       "      <td>412.0</td>\n",
       "      <td>597.0</td>\n",
       "      <td>311.0</td>\n",
       "      <td>3.1395</td>\n",
       "      <td>310000.0</td>\n",
       "      <td>NEAR OCEAN</td>\n",
       "      <td>0</td>\n",
       "      <td>0</td>\n",
       "      <td>0</td>\n",
       "      <td>1</td>\n",
       "      <td>1</td>\n",
       "    </tr>\n",
       "    <tr>\n",
       "      <th>4</th>\n",
       "      <td>-122.36</td>\n",
       "      <td>38.41</td>\n",
       "      <td>18.0</td>\n",
       "      <td>1808.0</td>\n",
       "      <td>400.0</td>\n",
       "      <td>968.0</td>\n",
       "      <td>370.0</td>\n",
       "      <td>3.7067</td>\n",
       "      <td>175000.0</td>\n",
       "      <td>INLAND</td>\n",
       "      <td>0</td>\n",
       "      <td>1</td>\n",
       "      <td>0</td>\n",
       "      <td>0</td>\n",
       "      <td>1</td>\n",
       "    </tr>\n",
       "  </tbody>\n",
       "</table>\n",
       "</div>"
      ],
      "text/plain": [
       "   longitude  latitude  housing_median_age  total_rooms  total_bedrooms  \\\n",
       "0    -118.46     34.07                42.0       2564.0           460.0   \n",
       "1    -121.81     37.27                22.0       2996.0           695.0   \n",
       "2    -122.33     40.48                26.0        695.0           126.0   \n",
       "3    -117.62     33.42                27.0       1444.0           412.0   \n",
       "4    -122.36     38.41                18.0       1808.0           400.0   \n",
       "\n",
       "   population  households  median_income  median_house_value ocean_proximity  \\\n",
       "0       913.0       414.0         9.2225            500001.0       <1H OCEAN   \n",
       "1      2169.0       607.0         4.3438            209700.0       <1H OCEAN   \n",
       "2       319.0       124.0         3.2788            101600.0          INLAND   \n",
       "3       597.0       311.0         3.1395            310000.0      NEAR OCEAN   \n",
       "4       968.0       370.0         3.7067            175000.0          INLAND   \n",
       "\n",
       "   <1H OCEAN  INLAND  NEAR BAY  NEAR OCEAN  median_age_less_than_30  \n",
       "0          1       0         0           0                        0  \n",
       "1          1       0         0           0                        1  \n",
       "2          0       1         0           0                        1  \n",
       "3          0       0         0           1                        1  \n",
       "4          0       1         0           0                        1  "
      ]
     },
     "execution_count": 40,
     "metadata": {},
     "output_type": "execute_result"
    }
   ],
   "source": [
    "# Add new binary column to training DataFrame where median_age < 30\n",
    "\n",
    "train_df['median_age_less_than_30'] = (train_df['housing_median_age'] < 30).astype(int)\n",
    "train_df.head()"
   ]
  },
  {
   "cell_type": "code",
   "execution_count": 41,
   "id": "740b5937",
   "metadata": {},
   "outputs": [
    {
     "data": {
      "text/plain": [
       "(16346, 1)"
      ]
     },
     "execution_count": 41,
     "metadata": {},
     "output_type": "execute_result"
    }
   ],
   "source": [
    "# Setup X_train_median_age which only uses the binary indicator\n",
    "\n",
    "X_train_median_age = train_df['median_age_less_than_30'].to_numpy().reshape(-1, 1)\n",
    "X_train_median_age.shape"
   ]
  },
  {
   "cell_type": "code",
   "execution_count": 42,
   "id": "ca63586b",
   "metadata": {},
   "outputs": [
    {
     "data": {
      "text/plain": [
       "(4087, 1)"
      ]
     },
     "execution_count": 42,
     "metadata": {},
     "output_type": "execute_result"
    }
   ],
   "source": [
    "# Setup X_test_median_age which only uses the binary indicator\n",
    "\n",
    "test_df['median_age_less_than_30'] = (test_df['housing_median_age'] < 30).astype(int)\n",
    "X_test_median_age = test_df['median_age_less_than_30'].to_numpy().reshape(-1, 1)\n",
    "X_test_median_age.shape"
   ]
  },
  {
   "cell_type": "code",
   "execution_count": 43,
   "id": "30bac79e",
   "metadata": {},
   "outputs": [
    {
     "data": {
      "text/plain": [
       "91300.08879899007"
      ]
     },
     "execution_count": 43,
     "metadata": {},
     "output_type": "execute_result"
    }
   ],
   "source": [
    "# Check error of linear model that only uses the binary variable\n",
    "\n",
    "linear_median_age = LinearRegression().fit(X_train_median_age, y_train)\n",
    "linear_median_age_test_predictions = linear_median_age.predict(X_test_median_age)\n",
    "mean_absolute_error(y_test, linear_median_age_test_predictions)"
   ]
  },
  {
   "cell_type": "code",
   "execution_count": null,
   "id": "f0daf079",
   "metadata": {},
   "outputs": [],
   "source": []
  }
 ],
 "metadata": {
  "kernelspec": {
   "display_name": "Python 3 (ipykernel)",
   "language": "python",
   "name": "python3"
  },
  "language_info": {
   "codemirror_mode": {
    "name": "ipython",
    "version": 3
   },
   "file_extension": ".py",
   "mimetype": "text/x-python",
   "name": "python",
   "nbconvert_exporter": "python",
   "pygments_lexer": "ipython3",
   "version": "3.8.10"
  }
 },
 "nbformat": 4,
 "nbformat_minor": 5
}
