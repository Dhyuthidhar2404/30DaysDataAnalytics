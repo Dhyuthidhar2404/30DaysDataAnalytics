{
 "cells": [
  {
   "cell_type": "code",
   "execution_count": 28,
   "id": "6ad3a91b-d1d7-470a-a4b4-8335b68f970a",
   "metadata": {
    "tags": []
   },
   "outputs": [],
   "source": [
    "#to send request to the api and to get and use the responses\n",
    "import requests"
   ]
  },
  {
   "cell_type": "code",
   "execution_count": 29,
   "id": "60c1e1e7-d9ad-430c-9325-3c406d088380",
   "metadata": {
    "tags": []
   },
   "outputs": [],
   "source": [
    "import json"
   ]
  },
  {
   "cell_type": "code",
   "execution_count": 30,
   "id": "b77fad40-adba-4fe8-b9d4-03fe893ad2d6",
   "metadata": {
    "tags": []
   },
   "outputs": [],
   "source": [
    "response_API = requests.get('https://api.covid19india.org/state_district_wise.json')"
   ]
  },
  {
   "cell_type": "code",
   "execution_count": 31,
   "id": "00a1ea2e-7256-4398-af98-938f7ba48aa3",
   "metadata": {
    "tags": []
   },
   "outputs": [
    {
     "name": "stdout",
     "output_type": "stream",
     "text": [
      "200\n"
     ]
    }
   ],
   "source": [
    "print(response_API.status_code)"
   ]
  },
  {
   "cell_type": "code",
   "execution_count": 32,
   "id": "5def3b1e-a904-426e-99c4-230b615b25c4",
   "metadata": {
    "tags": []
   },
   "outputs": [],
   "source": [
    "data = response_API.text"
   ]
  },
  {
   "cell_type": "code",
   "execution_count": 33,
   "id": "77d8a061-9187-43d1-97de-daef18914bf9",
   "metadata": {
    "tags": []
   },
   "outputs": [],
   "source": [
    "parse_json = json.loads(data)"
   ]
  },
  {
   "cell_type": "code",
   "execution_count": 34,
   "id": "2c743a30-a9bf-48e8-ad8e-f739cd3748c0",
   "metadata": {
    "tags": []
   },
   "outputs": [],
   "source": [
    "active_case = parse_json['Andaman and Nicobar Islands']['districtData']['South Andaman']['active']\n",
    "active_case_1 = parse_json['Andhra Pradesh']['districtData']['East Godavari']['active']"
   ]
  },
  {
   "cell_type": "code",
   "execution_count": 35,
   "id": "3ba90a35-989d-4b5a-a7ac-f4e461d0ac61",
   "metadata": {
    "tags": []
   },
   "outputs": [
    {
     "name": "stdout",
     "output_type": "stream",
     "text": [
      "Active cases in East Godavari: 19\n"
     ]
    }
   ],
   "source": [
    "print(\"Active cases in East Godavari:\", active_case)"
   ]
  },
  {
   "cell_type": "code",
   "execution_count": 36,
   "id": "9cbbb7a6-65d9-43a2-b3bc-79e7e1d9a4e4",
   "metadata": {
    "tags": []
   },
   "outputs": [],
   "source": [
    "keys = parse_json.keys()\n",
    "data_type = type(parse_json)"
   ]
  },
  {
   "cell_type": "code",
   "execution_count": 37,
   "id": "b68ed301-34d4-4df0-bc10-b3ad2d35a9a4",
   "metadata": {
    "tags": []
   },
   "outputs": [
    {
     "name": "stdout",
     "output_type": "stream",
     "text": [
      "Keys in the JSON data:  dict_keys(['State Unassigned', 'Andaman and Nicobar Islands', 'Andhra Pradesh', 'Arunachal Pradesh', 'Assam', 'Bihar', 'Chandigarh', 'Chhattisgarh', 'Delhi', 'Dadra and Nagar Haveli and Daman and Diu', 'Goa', 'Gujarat', 'Himachal Pradesh', 'Haryana', 'Jharkhand', 'Jammu and Kashmir', 'Karnataka', 'Kerala', 'Ladakh', 'Lakshadweep', 'Maharashtra', 'Meghalaya', 'Manipur', 'Madhya Pradesh', 'Mizoram', 'Nagaland', 'Odisha', 'Punjab', 'Puducherry', 'Rajasthan', 'Sikkim', 'Telangana', 'Tamil Nadu', 'Tripura', 'Uttar Pradesh', 'Uttarakhand', 'West Bengal'])\n",
      "Data type of the JSON data:  <class 'dict'>\n",
      "DataFrame from JSON data:\n",
      "                                               State Unassigned  \\\n",
      "districtData  {'Unassigned': {'notes': '', 'active': 0, 'con...   \n",
      "statecode                                                    UN   \n",
      "\n",
      "                                    Andaman and Nicobar Islands  \\\n",
      "districtData  {'Nicobars': {'notes': 'District-wise numbers ...   \n",
      "statecode                                                    AN   \n",
      "\n",
      "                                                 Andhra Pradesh  \\\n",
      "districtData  {'Foreign Evacuees': {'notes': '', 'active': 0...   \n",
      "statecode                                                    AP   \n",
      "\n",
      "                                              Arunachal Pradesh  \\\n",
      "districtData  {'Anjaw': {'notes': '', 'active': 48, 'confirm...   \n",
      "statecode                                                    AR   \n",
      "\n",
      "                                                          Assam  \\\n",
      "districtData  {'Airport Quarantine': {'notes': '', 'active':...   \n",
      "statecode                                                    AS   \n",
      "\n",
      "                                                          Bihar  \\\n",
      "districtData  {'Araria': {'notes': '', 'active': 8, 'confirm...   \n",
      "statecode                                                    BR   \n",
      "\n",
      "                                                     Chandigarh  \\\n",
      "districtData  {'Chandigarh': {'notes': '', 'active': 35, 'co...   \n",
      "statecode                                                    CH   \n",
      "\n",
      "                                                   Chhattisgarh  \\\n",
      "districtData  {'Other State': {'notes': '', 'active': 19, 'c...   \n",
      "statecode                                                    CT   \n",
      "\n",
      "                                                          Delhi  \\\n",
      "districtData  {'Central Delhi': {'notes': 'District-wise num...   \n",
      "statecode                                                    DL   \n",
      "\n",
      "                       Dadra and Nagar Haveli and Daman and Diu  ...  \\\n",
      "districtData  {'Other State': {'notes': '', 'active': 0, 'co...  ...   \n",
      "statecode                                                    DN  ...   \n",
      "\n",
      "                                                         Punjab  \\\n",
      "districtData  {'Amritsar': {'notes': '', 'active': 32, 'conf...   \n",
      "statecode                                                    PB   \n",
      "\n",
      "                                                     Puducherry  \\\n",
      "districtData  {'Karaikal': {'notes': '2 case of TN has been ...   \n",
      "statecode                                                    PY   \n",
      "\n",
      "                                                      Rajasthan  \\\n",
      "districtData  {'Ajmer': {'notes': '', 'active': 14, 'confirm...   \n",
      "statecode                                                    RJ   \n",
      "\n",
      "                                                         Sikkim  \\\n",
      "districtData  {'East Sikkim': {'notes': '', 'active': 10831,...   \n",
      "statecode                                                    SK   \n",
      "\n",
      "                                                      Telangana  \\\n",
      "districtData  {'Foreign Evacuees': {'notes': 'District-wise ...   \n",
      "statecode                                                    TG   \n",
      "\n",
      "                                                     Tamil Nadu  \\\n",
      "districtData  {'Railway Quarantine': {'notes': '', 'active':...   \n",
      "statecode                                                    TN   \n",
      "\n",
      "                                                        Tripura  \\\n",
      "districtData  {'Dhalai': {'notes': '', 'active': 107, 'confi...   \n",
      "statecode                                                    TR   \n",
      "\n",
      "                                                  Uttar Pradesh  \\\n",
      "districtData  {'Agra': {'notes': '', 'active': 8, 'confirmed...   \n",
      "statecode                                                    UP   \n",
      "\n",
      "                                                    Uttarakhand  \\\n",
      "districtData  {'Almora': {'notes': '', 'active': 6, 'confirm...   \n",
      "statecode                                                    UT   \n",
      "\n",
      "                                                    West Bengal  \n",
      "districtData  {'Alipurduar': {'notes': '', 'active': 243, 'c...  \n",
      "statecode                                                    WB  \n",
      "\n",
      "[2 rows x 37 columns]\n"
     ]
    }
   ],
   "source": [
    "import json\n",
    "import pandas as pd\n",
    "\n",
    "# Assuming 'data' contains the JSON data in string format\n",
    "parse_json = json.loads(data)\n",
    "keys = parse_json.keys()\n",
    "data_type = type(parse_json)\n",
    "\n",
    "# Convert parsed JSON data to a Pandas DataFrame\n",
    "df = pd.DataFrame(parse_json)\n",
    "\n",
    "# Display the keys and data type, and the DataFrame\n",
    "print(\"Keys in the JSON data: \", keys)\n",
    "print(\"Data type of the JSON data: \", data_type)\n",
    "print(\"DataFrame from JSON data:\")\n",
    "print(df)\n"
   ]
  },
  {
   "cell_type": "code",
   "execution_count": 38,
   "id": "0af99be1-ac0d-4ce2-9fb8-6c7ac62a11f3",
   "metadata": {
    "tags": []
   },
   "outputs": [
    {
     "data": {
      "text/html": [
       "<div>\n",
       "<style scoped>\n",
       "    .dataframe tbody tr th:only-of-type {\n",
       "        vertical-align: middle;\n",
       "    }\n",
       "\n",
       "    .dataframe tbody tr th {\n",
       "        vertical-align: top;\n",
       "    }\n",
       "\n",
       "    .dataframe thead th {\n",
       "        text-align: right;\n",
       "    }\n",
       "</style>\n",
       "<table border=\"1\" class=\"dataframe\">\n",
       "  <thead>\n",
       "    <tr style=\"text-align: right;\">\n",
       "      <th></th>\n",
       "      <th>State Unassigned</th>\n",
       "      <th>Andaman and Nicobar Islands</th>\n",
       "      <th>Andhra Pradesh</th>\n",
       "      <th>Arunachal Pradesh</th>\n",
       "      <th>Assam</th>\n",
       "      <th>Bihar</th>\n",
       "      <th>Chandigarh</th>\n",
       "      <th>Chhattisgarh</th>\n",
       "      <th>Delhi</th>\n",
       "      <th>Dadra and Nagar Haveli and Daman and Diu</th>\n",
       "      <th>...</th>\n",
       "      <th>Punjab</th>\n",
       "      <th>Puducherry</th>\n",
       "      <th>Rajasthan</th>\n",
       "      <th>Sikkim</th>\n",
       "      <th>Telangana</th>\n",
       "      <th>Tamil Nadu</th>\n",
       "      <th>Tripura</th>\n",
       "      <th>Uttar Pradesh</th>\n",
       "      <th>Uttarakhand</th>\n",
       "      <th>West Bengal</th>\n",
       "    </tr>\n",
       "  </thead>\n",
       "  <tbody>\n",
       "    <tr>\n",
       "      <th>districtData</th>\n",
       "      <td>{'Unassigned': {'notes': '', 'active': 0, 'con...</td>\n",
       "      <td>{'Nicobars': {'notes': 'District-wise numbers ...</td>\n",
       "      <td>{'Foreign Evacuees': {'notes': '', 'active': 0...</td>\n",
       "      <td>{'Anjaw': {'notes': '', 'active': 48, 'confirm...</td>\n",
       "      <td>{'Airport Quarantine': {'notes': '', 'active':...</td>\n",
       "      <td>{'Araria': {'notes': '', 'active': 8, 'confirm...</td>\n",
       "      <td>{'Chandigarh': {'notes': '', 'active': 35, 'co...</td>\n",
       "      <td>{'Other State': {'notes': '', 'active': 19, 'c...</td>\n",
       "      <td>{'Central Delhi': {'notes': 'District-wise num...</td>\n",
       "      <td>{'Other State': {'notes': '', 'active': 0, 'co...</td>\n",
       "      <td>...</td>\n",
       "      <td>{'Amritsar': {'notes': '', 'active': 32, 'conf...</td>\n",
       "      <td>{'Karaikal': {'notes': '2 case of TN has been ...</td>\n",
       "      <td>{'Ajmer': {'notes': '', 'active': 14, 'confirm...</td>\n",
       "      <td>{'East Sikkim': {'notes': '', 'active': 10831,...</td>\n",
       "      <td>{'Foreign Evacuees': {'notes': 'District-wise ...</td>\n",
       "      <td>{'Railway Quarantine': {'notes': '', 'active':...</td>\n",
       "      <td>{'Dhalai': {'notes': '', 'active': 107, 'confi...</td>\n",
       "      <td>{'Agra': {'notes': '', 'active': 8, 'confirmed...</td>\n",
       "      <td>{'Almora': {'notes': '', 'active': 6, 'confirm...</td>\n",
       "      <td>{'Alipurduar': {'notes': '', 'active': 243, 'c...</td>\n",
       "    </tr>\n",
       "    <tr>\n",
       "      <th>statecode</th>\n",
       "      <td>UN</td>\n",
       "      <td>AN</td>\n",
       "      <td>AP</td>\n",
       "      <td>AR</td>\n",
       "      <td>AS</td>\n",
       "      <td>BR</td>\n",
       "      <td>CH</td>\n",
       "      <td>CT</td>\n",
       "      <td>DL</td>\n",
       "      <td>DN</td>\n",
       "      <td>...</td>\n",
       "      <td>PB</td>\n",
       "      <td>PY</td>\n",
       "      <td>RJ</td>\n",
       "      <td>SK</td>\n",
       "      <td>TG</td>\n",
       "      <td>TN</td>\n",
       "      <td>TR</td>\n",
       "      <td>UP</td>\n",
       "      <td>UT</td>\n",
       "      <td>WB</td>\n",
       "    </tr>\n",
       "  </tbody>\n",
       "</table>\n",
       "<p>2 rows × 37 columns</p>\n",
       "</div>"
      ],
      "text/plain": [
       "                                               State Unassigned  \\\n",
       "districtData  {'Unassigned': {'notes': '', 'active': 0, 'con...   \n",
       "statecode                                                    UN   \n",
       "\n",
       "                                    Andaman and Nicobar Islands  \\\n",
       "districtData  {'Nicobars': {'notes': 'District-wise numbers ...   \n",
       "statecode                                                    AN   \n",
       "\n",
       "                                                 Andhra Pradesh  \\\n",
       "districtData  {'Foreign Evacuees': {'notes': '', 'active': 0...   \n",
       "statecode                                                    AP   \n",
       "\n",
       "                                              Arunachal Pradesh  \\\n",
       "districtData  {'Anjaw': {'notes': '', 'active': 48, 'confirm...   \n",
       "statecode                                                    AR   \n",
       "\n",
       "                                                          Assam  \\\n",
       "districtData  {'Airport Quarantine': {'notes': '', 'active':...   \n",
       "statecode                                                    AS   \n",
       "\n",
       "                                                          Bihar  \\\n",
       "districtData  {'Araria': {'notes': '', 'active': 8, 'confirm...   \n",
       "statecode                                                    BR   \n",
       "\n",
       "                                                     Chandigarh  \\\n",
       "districtData  {'Chandigarh': {'notes': '', 'active': 35, 'co...   \n",
       "statecode                                                    CH   \n",
       "\n",
       "                                                   Chhattisgarh  \\\n",
       "districtData  {'Other State': {'notes': '', 'active': 19, 'c...   \n",
       "statecode                                                    CT   \n",
       "\n",
       "                                                          Delhi  \\\n",
       "districtData  {'Central Delhi': {'notes': 'District-wise num...   \n",
       "statecode                                                    DL   \n",
       "\n",
       "                       Dadra and Nagar Haveli and Daman and Diu  ...  \\\n",
       "districtData  {'Other State': {'notes': '', 'active': 0, 'co...  ...   \n",
       "statecode                                                    DN  ...   \n",
       "\n",
       "                                                         Punjab  \\\n",
       "districtData  {'Amritsar': {'notes': '', 'active': 32, 'conf...   \n",
       "statecode                                                    PB   \n",
       "\n",
       "                                                     Puducherry  \\\n",
       "districtData  {'Karaikal': {'notes': '2 case of TN has been ...   \n",
       "statecode                                                    PY   \n",
       "\n",
       "                                                      Rajasthan  \\\n",
       "districtData  {'Ajmer': {'notes': '', 'active': 14, 'confirm...   \n",
       "statecode                                                    RJ   \n",
       "\n",
       "                                                         Sikkim  \\\n",
       "districtData  {'East Sikkim': {'notes': '', 'active': 10831,...   \n",
       "statecode                                                    SK   \n",
       "\n",
       "                                                      Telangana  \\\n",
       "districtData  {'Foreign Evacuees': {'notes': 'District-wise ...   \n",
       "statecode                                                    TG   \n",
       "\n",
       "                                                     Tamil Nadu  \\\n",
       "districtData  {'Railway Quarantine': {'notes': '', 'active':...   \n",
       "statecode                                                    TN   \n",
       "\n",
       "                                                        Tripura  \\\n",
       "districtData  {'Dhalai': {'notes': '', 'active': 107, 'confi...   \n",
       "statecode                                                    TR   \n",
       "\n",
       "                                                  Uttar Pradesh  \\\n",
       "districtData  {'Agra': {'notes': '', 'active': 8, 'confirmed...   \n",
       "statecode                                                    UP   \n",
       "\n",
       "                                                    Uttarakhand  \\\n",
       "districtData  {'Almora': {'notes': '', 'active': 6, 'confirm...   \n",
       "statecode                                                    UT   \n",
       "\n",
       "                                                    West Bengal  \n",
       "districtData  {'Alipurduar': {'notes': '', 'active': 243, 'c...  \n",
       "statecode                                                    WB  \n",
       "\n",
       "[2 rows x 37 columns]"
      ]
     },
     "execution_count": 38,
     "metadata": {},
     "output_type": "execute_result"
    }
   ],
   "source": [
    "df.head()"
   ]
  },
  {
   "cell_type": "markdown",
   "id": "6ce89bd9-0972-497a-9a6e-331fca150119",
   "metadata": {},
   "source": [
    "##### "
   ]
  }
 ],
 "metadata": {
  "kernelspec": {
   "display_name": "Python 3 (ipykernel)",
   "language": "python",
   "name": "python3"
  },
  "language_info": {
   "codemirror_mode": {
    "name": "ipython",
    "version": 3
   },
   "file_extension": ".py",
   "mimetype": "text/x-python",
   "name": "python",
   "nbconvert_exporter": "python",
   "pygments_lexer": "ipython3",
   "version": "3.8.10"
  }
 },
 "nbformat": 4,
 "nbformat_minor": 5
}
